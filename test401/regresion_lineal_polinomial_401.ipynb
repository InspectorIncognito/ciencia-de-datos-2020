{
 "cells": [
  {
   "cell_type": "markdown",
   "metadata": {},
   "source": [
    "# Regresiones 401"
   ]
  },
  {
   "cell_type": "markdown",
   "metadata": {},
   "source": [
    "## Librerías y carga de datos"
   ]
  },
  {
   "cell_type": "code",
   "execution_count": 1,
   "metadata": {
    "id": "mR7gMSBdhIuo"
   },
   "outputs": [
    {
     "name": "stderr",
     "output_type": "stream",
     "text": [
      "C:\\Users\\Diego\\Anaconda3\\lib\\site-packages\\numpy\\_distributor_init.py:32: UserWarning: loaded more than 1 DLL from .libs:\n",
      "C:\\Users\\Diego\\Anaconda3\\lib\\site-packages\\numpy\\.libs\\libopenblas.NOIJJG62EMASZI6NYURL6JBKM4EVBGM7.gfortran-win_amd64.dll\n",
      "C:\\Users\\Diego\\Anaconda3\\lib\\site-packages\\numpy\\.libs\\libopenblas.PYQHXLVVQ7VESDPUVUADXEVJOBGHJPAY.gfortran-win_amd64.dll\n",
      "  stacklevel=1)\n"
     ]
    }
   ],
   "source": [
    "#from google.colab import drive\n",
    "import numpy as np\n",
    "import pandas as pd\n",
    "import os\n",
    "import time\n",
    "import pickle\n",
    "from sklearn.metrics import mean_squared_error, mean_absolute_error, r2_score"
   ]
  },
  {
   "cell_type": "markdown",
   "metadata": {},
   "source": [
    "Se monta drive en caso de que se trabaje en Colab. En otro caso, comentar celda:"
   ]
  },
  {
   "cell_type": "code",
   "execution_count": 2,
   "metadata": {
    "colab": {
     "base_uri": "https://localhost:8080/"
    },
    "id": "qLIwkuIWhNv2",
    "outputId": "d0670659-0bc3-49aa-ea12-d9b0f828bd22"
   },
   "outputs": [],
   "source": [
    "#drive.mount('/content/drive')"
   ]
  },
  {
   "cell_type": "code",
   "execution_count": 3,
   "metadata": {
    "id": "EuI8a5LEjEre"
   },
   "outputs": [],
   "source": [
    "file_path = ''#D:\\Descargas\\datos_gps_curso_ciencia_de_datos\\'\n",
    "train_path = file_path + 'train2.csv'\n",
    "val_path = file_path + 'val2.csv'\n",
    "test_path = file_path + 'test2.csv'"
   ]
  },
  {
   "cell_type": "markdown",
   "metadata": {
    "id": "HFep0T0_pgcS"
   },
   "source": [
    "## Modelo de Regresión Lineal"
   ]
  },
  {
   "cell_type": "markdown",
   "metadata": {},
   "source": [
    "#### Se crea columna de diferencia de distancia entre dos pulsos pareados."
   ]
  },
  {
   "cell_type": "code",
   "execution_count": 4,
   "metadata": {
    "id": "TJCE8ptfkaex"
   },
   "outputs": [],
   "source": [
    "train = pd.read_csv(train_path, delimiter = ',')"
   ]
  },
  {
   "cell_type": "code",
   "execution_count": 5,
   "metadata": {
    "id": "qRalWAo-mYrI"
   },
   "outputs": [],
   "source": [
    "train['Distancia_Total'] = train['DistanciaInicio2'] - train['DistanciaInicio1']"
   ]
  },
  {
   "cell_type": "code",
   "execution_count": 6,
   "metadata": {
    "id": "tOiAiZa45PNP"
   },
   "outputs": [],
   "source": [
    "with open('encoding1.pickle', 'rb') as handle:\n",
    "    servs_encoding = pickle.load(handle)"
   ]
  },
  {
   "cell_type": "code",
   "execution_count": 7,
   "metadata": {
    "id": "cfIG1_I95xPe"
   },
   "outputs": [],
   "source": [
    "train['Servicio'] = train['Servicio'].apply(lambda x: servs_encoding[x])"
   ]
  },
  {
   "cell_type": "markdown",
   "metadata": {},
   "source": [
    "#### Creación del modelo y definición de hiperparámetros\n",
    "En este caso se entrena con la columna de distancia y con la primera codificación de los servicios creada en codificacion_servicios.ipynb como features y con el target la columna de diferencia de tiempo."
   ]
  },
  {
   "cell_type": "code",
   "execution_count": 8,
   "metadata": {
    "id": "ah4NwrFJmYtV"
   },
   "outputs": [],
   "source": [
    "X_train = train[['Distancia_Total', 'Servicio','dia_habil1','dia_Monday1','dia_Saturday1','dia_Sunday1','dia_Thursday1',\n",
    "                 'dia_Tuesday1','dia_Wednesday1']]\n",
    "y_train = train['Diferencia']"
   ]
  },
  {
   "cell_type": "code",
   "execution_count": 9,
   "metadata": {},
   "outputs": [],
   "source": [
    "del train #se libera memoria"
   ]
  },
  {
   "cell_type": "code",
   "execution_count": 10,
   "metadata": {
    "colab": {
     "base_uri": "https://localhost:8080/",
     "height": 178
    },
    "id": "hmmA-qqFnYJK",
    "outputId": "bfd8550c-a760-45bf-d670-faaa7fe206b6"
   },
   "outputs": [
    {
     "data": {
      "text/plain": [
       "(3072911, 9)"
      ]
     },
     "execution_count": 10,
     "metadata": {},
     "output_type": "execute_result"
    }
   ],
   "source": [
    "X_train = X_train.values #reshape(-1,1)\n",
    "X_train.shape"
   ]
  },
  {
   "cell_type": "code",
   "execution_count": 11,
   "metadata": {},
   "outputs": [],
   "source": [
    "from sklearn.linear_model import LinearRegression"
   ]
  },
  {
   "cell_type": "code",
   "execution_count": 12,
   "metadata": {},
   "outputs": [
    {
     "data": {
      "text/plain": [
       "LinearRegression(copy_X=True, fit_intercept=True, n_jobs=None, normalize=False)"
      ]
     },
     "execution_count": 12,
     "metadata": {},
     "output_type": "execute_result"
    }
   ],
   "source": [
    "reg = LinearRegression()\n",
    "reg.fit(X_train, y_train)"
   ]
  },
  {
   "cell_type": "code",
   "execution_count": 13,
   "metadata": {},
   "outputs": [],
   "source": [
    "#se guarda el modelo entrenado para usarlo más adelante\n",
    "reg_path = 'LRegressor401.sav'\n",
    "pickle.dump(reg, open(reg_path, 'wb'))"
   ]
  },
  {
   "cell_type": "markdown",
   "metadata": {},
   "source": [
    "Una vez entrenado el modelo, se prepara el conjunto de test para medir resultados."
   ]
  },
  {
   "cell_type": "markdown",
   "metadata": {},
   "source": [
    "## Modelo de Regresión Polinomial\n",
    "Se entrena el modelo de regresión polinomial con grado 4"
   ]
  },
  {
   "cell_type": "code",
   "execution_count": 14,
   "metadata": {},
   "outputs": [],
   "source": [
    "from sklearn.preprocessing import PolynomialFeatures "
   ]
  },
  {
   "cell_type": "code",
   "execution_count": 15,
   "metadata": {
    "colab": {
     "base_uri": "https://localhost:8080/"
    },
    "id": "gpQWIHBnmNCy",
    "outputId": "fc9d882d-546a-4772-af48-ceaf7f624f94"
   },
   "outputs": [],
   "source": [
    "poly = PolynomialFeatures(degree = 3) \n",
    "X_train_pol = poly.fit_transform(X_train) \n",
    "\n",
    "pol_reg = LinearRegression() \n",
    "pol_reg.fit(X_train_pol, y_train)\n",
    "\n",
    "poly_path = 'polynomial401.sav'\n",
    "pickle.dump(poly, open(poly_path, 'wb'))\n",
    "reg_path = 'PRegressor401.sav'\n",
    "pickle.dump(pol_reg, open(reg_path, 'wb'))"
   ]
  },
  {
   "cell_type": "code",
   "execution_count": 16,
   "metadata": {},
   "outputs": [],
   "source": [
    "del poly #liberar memoria"
   ]
  },
  {
   "cell_type": "markdown",
   "metadata": {},
   "source": [
    "Una vez entrenado el modelo, se prepara el conjunto de validación para medir resultados."
   ]
  },
  {
   "cell_type": "code",
   "execution_count": 17,
   "metadata": {
    "id": "Mcvvqm68nOAO"
   },
   "outputs": [],
   "source": [
    "from sklearn.metrics import r2_score\n",
    "from sklearn.metrics import mean_absolute_error\n",
    "from sklearn.metrics import mean_squared_error"
   ]
  },
  {
   "cell_type": "code",
   "execution_count": 18,
   "metadata": {
    "id": "3U3HIFdqpLVk"
   },
   "outputs": [],
   "source": [
    "y_pred = reg.predict(X_train)\n",
    "y_pred_pol = pol_reg.predict(X_train_pol)"
   ]
  },
  {
   "cell_type": "code",
   "execution_count": 19,
   "metadata": {},
   "outputs": [],
   "source": [
    "del X_train\n",
    "del X_train_pol"
   ]
  },
  {
   "cell_type": "markdown",
   "metadata": {},
   "source": [
    "Resultados regresión lineal:"
   ]
  },
  {
   "cell_type": "code",
   "execution_count": 20,
   "metadata": {
    "colab": {
     "base_uri": "https://localhost:8080/"
    },
    "id": "EcDYmOPipURO",
    "outputId": "af8ff07c-cc36-4dcf-8f7a-22a36e9c7b0c"
   },
   "outputs": [
    {
     "name": "stdout",
     "output_type": "stream",
     "text": [
      "R2 score: 0.85296845248722\n",
      "MAE score: 197.59221072275926\n"
     ]
    }
   ],
   "source": [
    "r2 = r2_score(y_train, y_pred)\n",
    "mae = mean_absolute_error(y_train, y_pred)\n",
    "\n",
    "print('R2 score: ' + str(r2) )\n",
    "print('MAE score: ' + str(mae))"
   ]
  },
  {
   "cell_type": "markdown",
   "metadata": {},
   "source": [
    "Resultados regresión polinomial:"
   ]
  },
  {
   "cell_type": "code",
   "execution_count": 21,
   "metadata": {},
   "outputs": [
    {
     "name": "stdout",
     "output_type": "stream",
     "text": [
      "R2 score: 0.8798901259344133\n",
      "MAE score: 172.6847494552651\n"
     ]
    }
   ],
   "source": [
    "r2 = r2_score(y_train, y_pred_pol)\n",
    "mae = mean_absolute_error(y_train, y_pred_pol)\n",
    "\n",
    "print('R2 score: ' + str(r2) )\n",
    "print('MAE score: ' + str(mae))"
   ]
  },
  {
   "cell_type": "markdown",
   "metadata": {
    "id": "d1J2vxq5pjKq"
   },
   "source": [
    "#### Validación"
   ]
  },
  {
   "cell_type": "code",
   "execution_count": 22,
   "metadata": {},
   "outputs": [],
   "source": [
    "poly_path = 'polynomial401.sav'\n",
    "pol_reg_path = 'PRegressor401.sav'\n",
    "reg_path = 'LRegressor401.sav'\n",
    "\n",
    "poly = pickle.load(open(poly_path, 'rb'))\n",
    "p_reg = pickle.load(open(pol_reg_path, 'rb'))\n",
    "reg = pickle.load(open(reg_path, 'rb'))"
   ]
  },
  {
   "cell_type": "code",
   "execution_count": 23,
   "metadata": {
    "id": "VldBMUCsoppA"
   },
   "outputs": [],
   "source": [
    "val = pd.read_csv(val_path, delimiter = ',')"
   ]
  },
  {
   "cell_type": "code",
   "execution_count": 24,
   "metadata": {
    "id": "i1VdNGzHopr3"
   },
   "outputs": [],
   "source": [
    "val['Distancia_Total'] = val['DistanciaInicio2'] - val['DistanciaInicio1']"
   ]
  },
  {
   "cell_type": "code",
   "execution_count": 25,
   "metadata": {},
   "outputs": [],
   "source": [
    "with open('encoding1.pickle', 'rb') as handle:\n",
    "    servs_encoding = pickle.load(handle)"
   ]
  },
  {
   "cell_type": "code",
   "execution_count": 26,
   "metadata": {},
   "outputs": [],
   "source": [
    "val['Servicio'] = val['Servicio'].apply(lambda x: servs_encoding[x])"
   ]
  },
  {
   "cell_type": "code",
   "execution_count": 27,
   "metadata": {
    "id": "RehZU5c4pqb3"
   },
   "outputs": [],
   "source": [
    "val_train = val[['Distancia_Total','Servicio','dia_habil1','dia_Monday1','dia_Saturday1','dia_Sunday1','dia_Thursday1',\n",
    "                 'dia_Tuesday1','dia_Wednesday1']]\n",
    "val_target = val['Diferencia']\n",
    "\n",
    "val_train = val_train.values#.reshape(-1,1)"
   ]
  },
  {
   "cell_type": "code",
   "execution_count": 31,
   "metadata": {
    "id": "_nba8K2jpFLR"
   },
   "outputs": [],
   "source": [
    "y_pred = reg.predict(val_train)\n",
    "\n",
    "y_pred_poly = p_reg.predict(poly.fit_transform(val_train))"
   ]
  },
  {
   "cell_type": "code",
   "execution_count": 33,
   "metadata": {},
   "outputs": [
    {
     "name": "stdout",
     "output_type": "stream",
     "text": [
      "R2 score: 0.8480144512425607\n",
      "MAE score: 200.78462013805958\n"
     ]
    }
   ],
   "source": [
    "r2_val = r2_score(val_target, y_pred)\n",
    "mae_val = mean_absolute_error(val_target, y_pred)\n",
    "\n",
    "print('R2 score: ' + str(r2_val))\n",
    "print('MAE score: ' + str(mae_val))"
   ]
  },
  {
   "cell_type": "code",
   "execution_count": 34,
   "metadata": {
    "colab": {
     "base_uri": "https://localhost:8080/"
    },
    "id": "f2FyyVRWp4v8",
    "outputId": "ab3ec66a-7a89-4c4f-ae95-b4da3e9afb98"
   },
   "outputs": [
    {
     "name": "stdout",
     "output_type": "stream",
     "text": [
      "R2 score: 0.8763506148712268\n",
      "MAE score: 176.17042411532756\n"
     ]
    }
   ],
   "source": [
    "r2_val = r2_score(val_target, y_pred_poly)\n",
    "mae_val = mean_absolute_error(val_target, y_pred_poly)\n",
    "\n",
    "print('R2 score: ' + str(r2_val))\n",
    "print('MAE score: ' + str(mae_val))"
   ]
  },
  {
   "cell_type": "code",
   "execution_count": 48,
   "metadata": {
    "id": "27pceE3BqEOR"
   },
   "outputs": [],
   "source": [
    "def eval_range(model, dataset, poly=None, top=60, bottom=0):\n",
    "    condition1 = dataset[\"Diferencia\"] >= bottom\n",
    "    condition2 = dataset[\"Diferencia\"] < top\n",
    "    total_cond = np.logical_and(condition1, condition2)\n",
    "    filtered = dataset[total_cond]\n",
    "    if filtered.shape[0] > 0:\n",
    "        y_val = filtered[\"Diferencia\"]\n",
    "        X_val = filtered[['Distancia_Total','Servicio','dia_habil1','dia_Monday1','dia_Saturday1','dia_Sunday1','dia_Thursday1',\n",
    "                 'dia_Tuesday1','dia_Wednesday1']].values\n",
    "        if poly != None:\n",
    "            y_pred = model.predict(poly.fit_transform(X_val))\n",
    "        else:\n",
    "            y_pred = model.predict(X_val)\n",
    "        dif = y_val - y_pred\n",
    "        rms = mean_squared_error(y_val, y_pred)\n",
    "        mae = mean_absolute_error(y_val, y_pred)\n",
    "        r2 = r2_score(y_val, y_pred)\n",
    "        me = np.sum(dif)/(len(y_pred))\n",
    "        mpe = np.sum(dif[dif > 0])/(len(y_pred))\n",
    "        return rms, mae, me, mpe, r2\n",
    "    else:\n",
    "        return None, None, None, None, None"
   ]
  },
  {
   "cell_type": "code",
   "execution_count": 52,
   "metadata": {},
   "outputs": [
    {
     "name": "stdout",
     "output_type": "stream",
     "text": [
      "Errores globales\n",
      "\tRMS: \t105951.43625830908\n",
      "\tMAE: \t200.78462013805958\n",
      "\tME: \t-8.334836588708466\n",
      "\tMPE: \t96.22489177467551\n",
      "\tR2: \t0.8480144512425607\n",
      "\n",
      "Errores para el rango 0min a 5min\n",
      "\tRMS: \t11918.462123858386\n",
      "\tMAE: \t90.77582081133315\n",
      "\tME: \t-77.99192311042042\n",
      "\tMPE: \t6.391948850456358\n",
      "\tR2: \t-1.0629130547506067\n",
      "\n",
      "Errores para el rango 5min a 10min\n",
      "\tRMS: \t26678.664739328276\n",
      "\tMAE: \t118.92012401770114\n",
      "\tME: \t-61.1610874697211\n",
      "\tMPE: \t28.879518273990023\n",
      "\tR2: \t-2.605147738707035\n",
      "\n",
      "Errores para el rango 10min a 20min\n",
      "\tRMS: \t74262.31101524924\n",
      "\tMAE: \t204.917078045075\n",
      "\tME: \t-22.212160897949413\n",
      "\tMPE: \t91.35245857356277\n",
      "\tR2: \t-1.5104844339055559\n",
      "\n",
      "Errores para el rango 20min a 40min\n",
      "\tRMS: \t243682.2597014591\n",
      "\tMAE: \t384.4407735866711\n",
      "\tME: \t91.18171805066737\n",
      "\tMPE: \t237.81124581866928\n",
      "\tR2: \t-1.084207396372317\n",
      "\n",
      "Errores para el rango 40min a 60min\n",
      "\tRMS: \t641416.2359028172\n",
      "\tMAE: \t649.4608435898864\n",
      "\tME: \t355.4427249157072\n",
      "\tMPE: \t502.45178425279676\n",
      "\tR2: \t-4.443656759973125\n",
      "\n"
     ]
    }
   ],
   "source": [
    "rms, mae, me, mpe, r2 = eval_range(reg, val[['Distancia_Total', 'Diferencia','Servicio','dia_habil1','dia_Monday1','dia_Saturday1','dia_Sunday1','dia_Thursday1',\n",
    "                 'dia_Tuesday1','dia_Wednesday1']], top=1e20, bottom=0)\n",
    "print(\"Errores globales\")\n",
    "print(\"\\tRMS: \\t{}\".format(rms))\n",
    "print(\"\\tMAE: \\t{}\".format(mae))\n",
    "print(\"\\tME: \\t{}\".format(me))\n",
    "print(\"\\tMPE: \\t{}\".format(mpe))\n",
    "print(\"\\tR2: \\t{}\\n\".format(r2))\n",
    "\n",
    "\n",
    "ranges = [[0, 5*60], [5*60, 10*60], [10*60, 20*60], [20*60, 40*60], [40*60, 60*60]]\n",
    "for bottom, top in ranges:\n",
    "    rms, mae, me, mpe, r2 = eval_range(reg, val[['Distancia_Total', 'Diferencia','Servicio','dia_habil1','dia_Monday1','dia_Saturday1','dia_Sunday1','dia_Thursday1',\n",
    "                 'dia_Tuesday1','dia_Wednesday1']], top=top, bottom=bottom)\n",
    "    print(\"Errores para el rango {}min a {}min\".format(bottom//60, top//60))\n",
    "    print(\"\\tRMS: \\t{}\".format(rms))\n",
    "    print(\"\\tMAE: \\t{}\".format(mae))\n",
    "    print(\"\\tME: \\t{}\".format(me))\n",
    "    print(\"\\tMPE: \\t{}\".format(mpe))\n",
    "    print(\"\\tR2: \\t{}\\n\".format(r2))"
   ]
  },
  {
   "cell_type": "code",
   "execution_count": 51,
   "metadata": {
    "colab": {
     "base_uri": "https://localhost:8080/"
    },
    "id": "b1Q4CuOBm8n2",
    "outputId": "3e371129-9315-4f09-cc61-e978ab4be5ec"
   },
   "outputs": [
    {
     "name": "stdout",
     "output_type": "stream",
     "text": [
      "Errores globales\n",
      "\tRMS: \t86197.86587577837\n",
      "\tMAE: \t176.17042411532756\n",
      "\tME: \t-8.071606549516972\n",
      "\tMPE: \t84.04940878290526\n",
      "\tR2: \t0.8763506148712268\n",
      "\n",
      "Errores para el rango 0min a 5min\n",
      "\tRMS: \t6057.519070695128\n",
      "\tMAE: \t50.333276299306746\n",
      "\tME: \t-24.90513885205872\n",
      "\tMPE: \t12.714068723624012\n",
      "\tR2: \t-0.04846875716649479\n",
      "\n",
      "Errores para el rango 5min a 10min\n",
      "\tRMS: \t36197.15887710148\n",
      "\tMAE: \t136.16326480723595\n",
      "\tME: \t-62.290904788616984\n",
      "\tMPE: \t36.936180009309496\n",
      "\tR2: \t-3.891403177349848\n",
      "\n",
      "Errores para el rango 10min a 20min\n",
      "\tRMS: \t103256.37442065847\n",
      "\tMAE: \t235.45020030604337\n",
      "\tME: \t-85.49536382113342\n",
      "\tMPE: \t74.97741824245497\n",
      "\tR2: \t-2.4906471013453535\n",
      "\n",
      "Errores para el rango 20min a 40min\n",
      "\tRMS: \t201693.47323200564\n",
      "\tMAE: \t347.9035484866358\n",
      "\tME: \t-11.207683456167945\n",
      "\tMPE: \t168.34793251523394\n",
      "\tR2: \t-0.7250785068440129\n",
      "\n",
      "Errores para el rango 40min a 60min\n",
      "\tRMS: \t394230.11584134394\n",
      "\tMAE: \t504.9336551363482\n",
      "\tME: \t424.8073123229184\n",
      "\tMPE: \t464.8704837296333\n",
      "\tR2: \t-2.3458046662384064\n",
      "\n"
     ]
    }
   ],
   "source": [
    "rms, mae, me, mpe, r2 = eval_range(p_reg, val[['Distancia_Total', 'Diferencia','Servicio','dia_habil1','dia_Monday1','dia_Saturday1','dia_Sunday1','dia_Thursday1',\n",
    "                 'dia_Tuesday1','dia_Wednesday1']], poly=poly, top=1e20, bottom=0)\n",
    "print(\"Errores globales\")\n",
    "print(\"\\tRMS: \\t{}\".format(rms))\n",
    "print(\"\\tMAE: \\t{}\".format(mae))\n",
    "print(\"\\tME: \\t{}\".format(me))\n",
    "print(\"\\tMPE: \\t{}\".format(mpe))\n",
    "print(\"\\tR2: \\t{}\\n\".format(r2))\n",
    "\n",
    "\n",
    "\n",
    "ranges = [[0, 5*60], [5*60, 10*60], [10*60, 20*60], [20*60, 40*60], [40*60, 60*60]]\n",
    "for bottom, top in ranges:\n",
    "    rms, mae, me, mpe, r2 = eval_range(p_reg, val[['Distancia_Total', 'Diferencia','Servicio','dia_habil1','dia_Monday1','dia_Saturday1','dia_Sunday1','dia_Thursday1',\n",
    "                 'dia_Tuesday1','dia_Wednesday1']], poly=poly, top=top, bottom=bottom)\n",
    "    print(\"Errores para el rango {}min a {}min\".format(bottom//60, top//60))\n",
    "    print(\"\\tRMS: \\t{}\".format(rms))\n",
    "    print(\"\\tMAE: \\t{}\".format(mae))\n",
    "    print(\"\\tME: \\t{}\".format(me))\n",
    "    print(\"\\tMPE: \\t{}\".format(mpe))\n",
    "    print(\"\\tR2: \\t{}\\n\".format(r2))"
   ]
  },
  {
   "cell_type": "code",
   "execution_count": null,
   "metadata": {},
   "outputs": [],
   "source": []
  }
 ],
 "metadata": {
  "colab": {
   "name": "transapp_reg+servicios.ipynb",
   "provenance": [],
   "toc_visible": true
  },
  "kernelspec": {
   "display_name": "Python 3",
   "language": "python",
   "name": "python3"
  },
  "language_info": {
   "codemirror_mode": {
    "name": "ipython",
    "version": 3
   },
   "file_extension": ".py",
   "mimetype": "text/x-python",
   "name": "python",
   "nbconvert_exporter": "python",
   "pygments_lexer": "ipython3",
   "version": "3.7.1"
  }
 },
 "nbformat": 4,
 "nbformat_minor": 1
}
