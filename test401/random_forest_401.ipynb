{
 "cells": [
  {
   "cell_type": "markdown",
   "metadata": {},
   "source": [
    "# Random Forest 401"
   ]
  },
  {
   "cell_type": "markdown",
   "metadata": {},
   "source": [
    "## Librerías y carga de datos"
   ]
  },
  {
   "cell_type": "code",
   "execution_count": 1,
   "metadata": {
    "id": "F4BI_5gSneje"
   },
   "outputs": [
    {
     "name": "stderr",
     "output_type": "stream",
     "text": [
      "C:\\Users\\Diego\\Anaconda3\\lib\\site-packages\\numpy\\_distributor_init.py:32: UserWarning: loaded more than 1 DLL from .libs:\n",
      "C:\\Users\\Diego\\Anaconda3\\lib\\site-packages\\numpy\\.libs\\libopenblas.NOIJJG62EMASZI6NYURL6JBKM4EVBGM7.gfortran-win_amd64.dll\n",
      "C:\\Users\\Diego\\Anaconda3\\lib\\site-packages\\numpy\\.libs\\libopenblas.PYQHXLVVQ7VESDPUVUADXEVJOBGHJPAY.gfortran-win_amd64.dll\n",
      "  stacklevel=1)\n"
     ]
    }
   ],
   "source": [
    "#from google.colab import drive\n",
    "import pandas as pd\n",
    "from sklearn.ensemble import RandomForestRegressor\n",
    "from sklearn.metrics import mean_absolute_error, mean_squared_error, r2_score\n",
    "import numpy as np\n",
    "import os\n",
    "import time\n",
    "import pickle"
   ]
  },
  {
   "cell_type": "markdown",
   "metadata": {},
   "source": [
    "Se monta drive en caso de que se trabaje en Colab. En otro caso, comentar celda:"
   ]
  },
  {
   "cell_type": "code",
   "execution_count": 2,
   "metadata": {
    "colab": {
     "base_uri": "https://localhost:8080/"
    },
    "id": "HhANxB-Bn7PZ",
    "outputId": "1fc97ab0-96bc-47c8-b51f-2f8eeacc6c99"
   },
   "outputs": [],
   "source": [
    "#drive.mount('/content/drive')"
   ]
  },
  {
   "cell_type": "code",
   "execution_count": 3,
   "metadata": {
    "id": "Uwg_gtjLoDw5"
   },
   "outputs": [],
   "source": [
    "path_train = 'train2.csv'\n",
    "path_test = 'test2.csv'\n",
    "path_val = 'val2.csv'\n",
    "\n",
    "train=pd.read_csv(path_train, delimiter = ',')"
   ]
  },
  {
   "cell_type": "markdown",
   "metadata": {},
   "source": [
    "## Modelo Random Forest"
   ]
  },
  {
   "cell_type": "markdown",
   "metadata": {},
   "source": [
    "#### Se crea columna de diferencia de distancia entre dos pulsos pareados."
   ]
  },
  {
   "cell_type": "code",
   "execution_count": 4,
   "metadata": {
    "id": "WvHP9GdPoLdU"
   },
   "outputs": [],
   "source": [
    "train['Distancia_Total'] = train['DistanciaInicio2'] - train['DistanciaInicio1']"
   ]
  },
  {
   "cell_type": "code",
   "execution_count": 5,
   "metadata": {},
   "outputs": [],
   "source": [
    "with open('encoding1.pickle', 'rb') as handle:\n",
    "    servs_encoding = pickle.load(handle)"
   ]
  },
  {
   "cell_type": "code",
   "execution_count": 6,
   "metadata": {},
   "outputs": [],
   "source": [
    "train['Servicio'] = train['Servicio'].apply(lambda x: servs_encoding[x])"
   ]
  },
  {
   "cell_type": "markdown",
   "metadata": {},
   "source": [
    "#### Creación del modelo y definición de hiperparámetros\n",
    "En este caso se entrena con la columna de distancia como única feature y con el target la columna de diferencia de tiempo."
   ]
  },
  {
   "cell_type": "code",
   "execution_count": 7,
   "metadata": {
    "colab": {
     "base_uri": "https://localhost:8080/"
    },
    "id": "garSvRqHoTWY",
    "outputId": "841f647d-eb3d-4e21-ec3e-75baba9b0f84"
   },
   "outputs": [
    {
     "name": "stderr",
     "output_type": "stream",
     "text": [
      "C:\\Users\\Diego\\Anaconda3\\lib\\site-packages\\ipykernel_launcher.py:3: DataConversionWarning: A column-vector y was passed when a 1d array was expected. Please change the shape of y to (n_samples,), for example using ravel().\n",
      "  This is separate from the ipykernel package so we can avoid doing imports until\n"
     ]
    },
    {
     "data": {
      "text/plain": [
       "RandomForestRegressor(bootstrap=True, ccp_alpha=0.0, criterion='mse',\n",
       "                      max_depth=None, max_features='auto', max_leaf_nodes=None,\n",
       "                      max_samples=None, min_impurity_decrease=0.0,\n",
       "                      min_impurity_split=None, min_samples_leaf=1,\n",
       "                      min_samples_split=2, min_weight_fraction_leaf=0.0,\n",
       "                      n_estimators=100, n_jobs=None, oob_score=False,\n",
       "                      random_state=42, verbose=0, warm_start=False)"
      ]
     },
     "execution_count": 7,
     "metadata": {},
     "output_type": "execute_result"
    }
   ],
   "source": [
    "rf = RandomForestRegressor(n_estimators = 100, random_state = 42)\n",
    "rf.fit(train[['Distancia_Total', 'Servicio','dia_habil1','dia_Monday1','dia_Saturday1','dia_Sunday1','dia_Thursday1',\n",
    "                 'dia_Tuesday1','dia_Wednesday1']], train[['Diferencia']])"
   ]
  },
  {
   "cell_type": "code",
   "execution_count": 26,
   "metadata": {},
   "outputs": [],
   "source": [
    "#se guarda el modelo entrenado para usarlo más adelante\n",
    "rf_path = 'RandomForest401.sav'\n",
    "pickle.dump(rf, open(rf_path, 'wb'))"
   ]
  },
  {
   "cell_type": "code",
   "execution_count": 8,
   "metadata": {
    "id": "AO7F_N6L7hZ4"
   },
   "outputs": [],
   "source": [
    "train=[] #liberamos memoria"
   ]
  },
  {
   "cell_type": "markdown",
   "metadata": {},
   "source": [
    "#### Validación"
   ]
  },
  {
   "cell_type": "code",
   "execution_count": 13,
   "metadata": {
    "id": "pUsBMBoEBCj9"
   },
   "outputs": [],
   "source": [
    "val=pd.read_csv(path_val, delimiter = ',') #se carga conjunto de validación"
   ]
  },
  {
   "cell_type": "code",
   "execution_count": 14,
   "metadata": {
    "id": "F3dHHQ_aBKzO"
   },
   "outputs": [],
   "source": [
    "val['Distancia_Total'] = val['DistanciaInicio2'] - val['DistanciaInicio1'] #columna utilizada para predecir"
   ]
  },
  {
   "cell_type": "code",
   "execution_count": 15,
   "metadata": {},
   "outputs": [],
   "source": [
    "val['Servicio'] = val['Servicio'].apply(lambda x: servs_encoding[x])"
   ]
  },
  {
   "cell_type": "code",
   "execution_count": 24,
   "metadata": {
    "id": "CCi1xlMnBfbo"
   },
   "outputs": [],
   "source": [
    "def eval_range(model, dataset, top=60, bottom=0):\n",
    "    \"\"\"función que retorna error de la predicción por rango de tiempo\"\"\"  \n",
    "    condition1 = dataset[\"Diferencia\"] >= bottom\n",
    "    condition2 = dataset[\"Diferencia\"] < top\n",
    "    total_cond = np.logical_and(condition1, condition2)\n",
    "    filtered = dataset[total_cond]\n",
    "    if filtered.shape[0] > 0:\n",
    "        y_val = filtered['Diferencia']\n",
    "        X_val = filtered[['Distancia_Total', 'Servicio','dia_habil1','dia_Monday1','dia_Saturday1','dia_Sunday1','dia_Thursday1',\n",
    "                 'dia_Tuesday1','dia_Wednesday1']].values\n",
    "        y_pred = model.predict(X_val)\n",
    "        rms = mean_squared_error(y_val, y_pred)\n",
    "        mae = mean_absolute_error(y_val, y_pred)\n",
    "        r2 = r2_score(y_val, y_pred)\n",
    "        dif = y_val - y_pred\n",
    "        me = np.sum(dif)/(len(y_pred))\n",
    "        mpe = np.sum(dif[dif > 0])/(len(y_pred))\n",
    "        return rms, mae, me, mpe, r2\n",
    "    else:\n",
    "        return None, None, None"
   ]
  },
  {
   "cell_type": "code",
   "execution_count": 25,
   "metadata": {
    "colab": {
     "base_uri": "https://localhost:8080/"
    },
    "id": "JbE77KBuBmlg",
    "outputId": "40031121-b274-41a9-e034-f1b14e658d2c"
   },
   "outputs": [
    {
     "name": "stdout",
     "output_type": "stream",
     "text": [
      "Errores globales\n",
      "\tRMS: \t94788.17250631074\n",
      "\tMAE: \t182.5345473332528\n",
      "\tME: \t-8.07147774339763\n",
      "\tMPE: \t87.23153479492758\n",
      "\tR2: \t0.8640279648596396\n",
      "\n",
      "Errores para el rango 0min a 5min\n",
      "\tRMS: \t6025.456820578285\n",
      "\tMAE: \t50.2295250348247\n",
      "\tME: \t-29.946178868349822\n",
      "\tMPE: \t10.141673083237439\n",
      "\tR2: \t-0.04291924636188238\n",
      "\n",
      "Errores para el rango 5min a 10min\n",
      "\tRMS: \t34157.01168811552\n",
      "\tMAE: \t132.18109354354004\n",
      "\tME: \t-50.8919354202952\n",
      "\tMPE: \t40.64457906162241\n",
      "\tR2: \t-3.6157135168339725\n",
      "\n",
      "Errores para el rango 10min a 20min\n",
      "\tRMS: \t111542.17615512761\n",
      "\tMAE: \t241.91863204027518\n",
      "\tME: \t-72.8718954397152\n",
      "\tMPE: \t84.52336830028\n",
      "\tR2: \t-2.7707538741138587\n",
      "\n",
      "Errores para el rango 20min a 40min\n",
      "\tRMS: \t236525.32025696742\n",
      "\tMAE: \t378.7852391754356\n",
      "\tME: \t-19.610515449711766\n",
      "\tMPE: \t179.58736186286188\n",
      "\tR2: \t-1.0229942980373252\n",
      "\n",
      "Errores para el rango 40min a 60min\n",
      "\tRMS: \t424232.9788081344\n",
      "\tMAE: \t521.914432815181\n",
      "\tME: \t413.6322502987734\n",
      "\tMPE: \t467.77334155697724\n",
      "\tR2: \t-2.6004369606296294\n",
      "\n"
     ]
    }
   ],
   "source": [
    "rms, mae, me, mpe, r2 = eval_range(rf, val[['Distancia_Total', 'Servicio','dia_habil1','dia_Monday1','dia_Saturday1','dia_Sunday1','dia_Thursday1',\n",
    "                 'dia_Tuesday1','dia_Wednesday1','Diferencia']], top=1e20, bottom=0)\n",
    "print(\"Errores globales\")\n",
    "print(\"\\tRMS: \\t{}\".format(rms))\n",
    "print(\"\\tMAE: \\t{}\".format(mae))\n",
    "print(\"\\tME: \\t{}\".format(me))\n",
    "print(\"\\tMPE: \\t{}\".format(mpe))\n",
    "print(\"\\tR2: \\t{}\\n\".format(r2))\n",
    "\n",
    "\n",
    "ranges = [[0, 5*60], [5*60, 10*60], [10*60, 20*60], [20*60, 40*60], [40*60, 60*60]]\n",
    "for bottom, top in ranges:\n",
    "    rms, mae, me, mpe, r2 = eval_range(rf, val[['Distancia_Total', 'Servicio','dia_habil1','dia_Monday1','dia_Saturday1','dia_Sunday1','dia_Thursday1',\n",
    "                 'dia_Tuesday1','dia_Wednesday1', 'Diferencia']], top=top, bottom=bottom)\n",
    "    print(\"Errores para el rango {}min a {}min\".format(bottom//60, top//60))\n",
    "    print(\"\\tRMS: \\t{}\".format(rms))\n",
    "    print(\"\\tMAE: \\t{}\".format(mae))\n",
    "    print(\"\\tME: \\t{}\".format(me))\n",
    "    print(\"\\tMPE: \\t{}\".format(mpe))\n",
    "    print(\"\\tR2: \\t{}\\n\".format(r2))"
   ]
  },
  {
   "cell_type": "code",
   "execution_count": null,
   "metadata": {},
   "outputs": [],
   "source": []
  }
 ],
 "metadata": {
  "colab": {
   "name": "random_forest.ipynb",
   "provenance": []
  },
  "kernelspec": {
   "display_name": "Python 3",
   "language": "python",
   "name": "python3"
  },
  "language_info": {
   "codemirror_mode": {
    "name": "ipython",
    "version": 3
   },
   "file_extension": ".py",
   "mimetype": "text/x-python",
   "name": "python",
   "nbconvert_exporter": "python",
   "pygments_lexer": "ipython3",
   "version": "3.7.1"
  }
 },
 "nbformat": 4,
 "nbformat_minor": 1
}
