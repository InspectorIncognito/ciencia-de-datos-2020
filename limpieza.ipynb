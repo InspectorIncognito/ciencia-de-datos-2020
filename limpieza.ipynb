{
 "cells": [
  {
   "cell_type": "code",
   "execution_count": null,
   "metadata": {
    "colab": {
     "base_uri": "https://localhost:8080/",
     "height": 34
    },
    "id": "afVyyseIo3Cu",
    "outputId": "6deaaec5-ac5b-483c-9268-3e12ce1ecc04"
   },
   "outputs": [],
   "source": [
    "from google.colab import drive\n",
    "drive.mount('/content/drive')"
   ]
  },
  {
   "cell_type": "code",
   "execution_count": 6,
   "metadata": {
    "id": "3m3XoBBbp0ji"
   },
   "outputs": [],
   "source": [
    "import pandas as pd\n",
    "import glob\n",
    "import numpy as np\n",
    "import calendar\n",
    "from datetime import datetime\n",
    "import os"
   ]
  },
  {
   "cell_type": "markdown",
   "metadata": {
    "id": "06hQESTEpJNu"
   },
   "source": [
    "# Carga de datos"
   ]
  },
  {
   "cell_type": "code",
   "execution_count": 7,
   "metadata": {
    "id": "kywHQ2_vpbkH"
   },
   "outputs": [],
   "source": [
    "df = pd.read_csv('gps_filtered.csv', sep=',', header=0)\n",
    "#df = pd.read_csv('drive/My Drive/ProyectoCienciaDeDatos/datos_gps_curso_ciencia_de_datos/gps_filtered.csv', sep=',', header=0)"
   ]
  },
  {
   "cell_type": "code",
   "execution_count": 8,
   "metadata": {
    "colab": {
     "base_uri": "https://localhost:8080/",
     "height": 296
    },
    "id": "wZe80RSMka55",
    "outputId": "f3ca1856-aa15-4ff7-d766-95dc5259997b"
   },
   "outputs": [
    {
     "data": {
      "text/html": [
       "<div>\n",
       "<style scoped>\n",
       "    .dataframe tbody tr th:only-of-type {\n",
       "        vertical-align: middle;\n",
       "    }\n",
       "\n",
       "    .dataframe tbody tr th {\n",
       "        vertical-align: top;\n",
       "    }\n",
       "\n",
       "    .dataframe thead th {\n",
       "        text-align: right;\n",
       "    }\n",
       "</style>\n",
       "<table border=\"1\" class=\"dataframe\">\n",
       "  <thead>\n",
       "    <tr style=\"text-align: right;\">\n",
       "      <th></th>\n",
       "      <th>Unnamed: 0</th>\n",
       "      <th>DistanciaInicio</th>\n",
       "      <th>DistanciaRuta</th>\n",
       "      <th>GPS_time</th>\n",
       "      <th>Ind1</th>\n",
       "      <th>Ind2</th>\n",
       "      <th>Ind3</th>\n",
       "      <th>Latitud</th>\n",
       "      <th>Longitud</th>\n",
       "      <th>Patente</th>\n",
       "      <th>Servicio</th>\n",
       "      <th>Unnamed: 0.1</th>\n",
       "      <th>Unnamed: 0.1.1</th>\n",
       "    </tr>\n",
       "  </thead>\n",
       "  <tbody>\n",
       "    <tr>\n",
       "      <th>0</th>\n",
       "      <td>0</td>\n",
       "      <td>0</td>\n",
       "      <td>147</td>\n",
       "      <td>2019-08-01 00:00:28</td>\n",
       "      <td>0</td>\n",
       "      <td>5</td>\n",
       "      <td>0</td>\n",
       "      <td>-33.543559</td>\n",
       "      <td>-70.789180</td>\n",
       "      <td>BDXR-15</td>\n",
       "      <td>T506 00I</td>\n",
       "      <td>0</td>\n",
       "      <td>12057.0</td>\n",
       "    </tr>\n",
       "    <tr>\n",
       "      <th>1</th>\n",
       "      <td>1</td>\n",
       "      <td>0</td>\n",
       "      <td>140</td>\n",
       "      <td>2019-08-01 00:00:15</td>\n",
       "      <td>0</td>\n",
       "      <td>5</td>\n",
       "      <td>0</td>\n",
       "      <td>-33.543655</td>\n",
       "      <td>-70.788752</td>\n",
       "      <td>BFKB-85</td>\n",
       "      <td>T506 00I</td>\n",
       "      <td>1</td>\n",
       "      <td>12058.0</td>\n",
       "    </tr>\n",
       "    <tr>\n",
       "      <th>2</th>\n",
       "      <td>2</td>\n",
       "      <td>0</td>\n",
       "      <td>140</td>\n",
       "      <td>2019-08-01 00:00:45</td>\n",
       "      <td>0</td>\n",
       "      <td>5</td>\n",
       "      <td>0</td>\n",
       "      <td>-33.543655</td>\n",
       "      <td>-70.788752</td>\n",
       "      <td>BFKB-85</td>\n",
       "      <td>T506 00I</td>\n",
       "      <td>2</td>\n",
       "      <td>12059.0</td>\n",
       "    </tr>\n",
       "    <tr>\n",
       "      <th>3</th>\n",
       "      <td>3</td>\n",
       "      <td>0</td>\n",
       "      <td>140</td>\n",
       "      <td>2019-08-01 00:01:15</td>\n",
       "      <td>0</td>\n",
       "      <td>5</td>\n",
       "      <td>0</td>\n",
       "      <td>-33.543655</td>\n",
       "      <td>-70.788752</td>\n",
       "      <td>BFKB-85</td>\n",
       "      <td>T506 00I</td>\n",
       "      <td>3</td>\n",
       "      <td>12060.0</td>\n",
       "    </tr>\n",
       "    <tr>\n",
       "      <th>4</th>\n",
       "      <td>4</td>\n",
       "      <td>0</td>\n",
       "      <td>139</td>\n",
       "      <td>2019-08-01 00:01:45</td>\n",
       "      <td>5</td>\n",
       "      <td>5</td>\n",
       "      <td>0</td>\n",
       "      <td>-33.543637</td>\n",
       "      <td>-70.788783</td>\n",
       "      <td>BFKB-85</td>\n",
       "      <td>T506 00I</td>\n",
       "      <td>4</td>\n",
       "      <td>12061.0</td>\n",
       "    </tr>\n",
       "  </tbody>\n",
       "</table>\n",
       "</div>"
      ],
      "text/plain": [
       "   Unnamed: 0  DistanciaInicio  DistanciaRuta             GPS_time  Ind1  \\\n",
       "0           0                0            147  2019-08-01 00:00:28     0   \n",
       "1           1                0            140  2019-08-01 00:00:15     0   \n",
       "2           2                0            140  2019-08-01 00:00:45     0   \n",
       "3           3                0            140  2019-08-01 00:01:15     0   \n",
       "4           4                0            139  2019-08-01 00:01:45     5   \n",
       "\n",
       "   Ind2  Ind3    Latitud   Longitud  Patente  Servicio  Unnamed: 0.1  \\\n",
       "0     5     0 -33.543559 -70.789180  BDXR-15  T506 00I             0   \n",
       "1     5     0 -33.543655 -70.788752  BFKB-85  T506 00I             1   \n",
       "2     5     0 -33.543655 -70.788752  BFKB-85  T506 00I             2   \n",
       "3     5     0 -33.543655 -70.788752  BFKB-85  T506 00I             3   \n",
       "4     5     0 -33.543637 -70.788783  BFKB-85  T506 00I             4   \n",
       "\n",
       "   Unnamed: 0.1.1  \n",
       "0         12057.0  \n",
       "1         12058.0  \n",
       "2         12059.0  \n",
       "3         12060.0  \n",
       "4         12061.0  "
      ]
     },
     "execution_count": 8,
     "metadata": {},
     "output_type": "execute_result"
    }
   ],
   "source": [
    "df.head()"
   ]
  },
  {
   "cell_type": "markdown",
   "metadata": {
    "id": "3DU1XALo5wBB"
   },
   "source": [
    "# Patentes\n",
    "\n",
    "Filtra patentes según si cumplen formato XXXX-00 o XX-0000 "
   ]
  },
  {
   "cell_type": "code",
   "execution_count": null,
   "metadata": {
    "colab": {
     "base_uri": "https://localhost:8080/",
     "height": 34
    },
    "id": "_VkjwafE1rS2",
    "outputId": "4a1a9aa0-415e-4c42-8b29-436b2def5c3d"
   },
   "outputs": [],
   "source": [
    "def patente(df):\n",
    "    \"\"\"\n",
    "    df: dataframe\n",
    "    \n",
    "    return: dataframe filtrado con formato de patente correcto\n",
    "    (XXXX-00 o XX-0000)\n",
    "    \"\"\"\n",
    "    df = df[df['Patente'].map(lambda x: (x[:4].isalpha() and x[5:].isnumeric()) or (x[:2].isalpha() and x[4:].isnumeric()))]"
   ]
  },
  {
   "cell_type": "markdown",
   "metadata": {
    "id": "3tqlpeWspeP2"
   },
   "source": [
    "# Servicios  \n",
    "\n",
    "formatoServicio revisa formato según orden de caracteres (letra, número o espacio)"
   ]
  },
  {
   "cell_type": "code",
   "execution_count": null,
   "metadata": {
    "id": "Rnpft1B3_cq4"
   },
   "outputs": [],
   "source": [
    "#--machine <patente> <servicio> <distancia_en_ruta> <tiempo_medición>\n",
    "def formatoServicio(servicio):\n",
    "    \"\"\"\n",
    "    servicio: string que indica el servicio\n",
    "    \n",
    "    return: True si el servicio cumple el formato, False si no\n",
    "    \"\"\"\n",
    "    \n",
    "    #ej: B09 00R\n",
    "    if len(servicio) == 7:\n",
    "        if servicio[0].isalpha() and servicio[1:3].isnumeric() and servicio[3].isspace() \\\n",
    "        and servicio[4:6].isnumeric() and servicio[6].isalpha():\n",
    "            return True\n",
    "\n",
    "        else: \n",
    "            return False\n",
    "\n",
    "    #ej: T201 00I, B04V 00I\n",
    "    if len(servicio) == 8:\n",
    "        if servicio[0].isalpha() and servicio[1:4].isnumeric() and servicio[4].isspace() \\\n",
    "        and servicio[5:7].isnumeric() and servicio[7].isalpha():\n",
    "            return True\n",
    "\n",
    "        if servicio[0].isalpha() and servicio[1:3].isnumeric() and servicio[3].isalpha() \\\n",
    "        and servicio[4].isspace() and servicio[5:7].isnumeric() and servicio[7].isalpha():\n",
    "            return True\n",
    "\n",
    "        else: \n",
    "            return False\n",
    "\n",
    "    #ej: B02 C2 00I\n",
    "    if len(servicio) == 10:\n",
    "        if servicio[0].isalpha() and servicio[1:3].isnumeric() and servicio[3].isspace() \\\n",
    "        and servicio[4].isalpha() and servicio[5].isnumeric() and servicio[6].isspace() \\\n",
    "        and servicio[7:9].isnumeric() and servicio[9].isalpha():\n",
    "            return True\n",
    "        else: \n",
    "            return False\n",
    "\n",
    "    #ej: T201 E0 00I\n",
    "    if len(servicio) == 11:\n",
    "        if servicio[0].isalpha() and servicio[1:4].isnumeric() and servicio[4].isspace() \\\n",
    "        and servicio[5].isalpha() and servicio[6].isnumeric() and servicio[7].isspace() \\\n",
    "        and servicio[8:10].isnumeric() and servicio[10].isalpha():\n",
    "            return True\n",
    "        else:\n",
    "            return False\n",
    "\n",
    "    else:\n",
    "        return False"
   ]
  },
  {
   "cell_type": "markdown",
   "metadata": {
    "id": "JEAg2wa4qRC0"
   },
   "source": [
    "esServicio revisa si servicio ingresado está dentro de la lista de servicios únicos"
   ]
  },
  {
   "cell_type": "code",
   "execution_count": null,
   "metadata": {
    "id": "ofl-D1FflHTS"
   },
   "outputs": [],
   "source": [
    "def esServicio(servicio):\n",
    "    \"\"\"\n",
    "    servicio: string que indica el servicio\n",
    "    \n",
    "    return: True si el servicio está en la lista, False si no\n",
    "    \"\"\"\n",
    "    #servs = np.load('servicios_unicos.npy')\n",
    "    servs = np.load('drive/My Drive/ProyectoCienciaDeDatos/datos_gps_curso_ciencia_de_datos/servicios_unicos.npy')\n",
    "    if servicio in servs:\n",
    "        return True\n",
    "    else:\n",
    "        return False"
   ]
  },
  {
   "cell_type": "code",
   "execution_count": null,
   "metadata": {
    "colab": {
     "base_uri": "https://localhost:8080/",
     "height": 87
    },
    "id": "kP5kM3oNnyB4",
    "outputId": "8d4746ce-3172-45e6-b24f-579b621339ab"
   },
   "outputs": [],
   "source": [
    "def servicio(df, file):\n",
    "    \"\"\"\n",
    "    df: dataframe\n",
    "    \n",
    "    return: dataframe servicios que cumplen\n",
    "    formatoServicio y esServicio\n",
    "    \"\"\"\n",
    "    #df = df[df['Servicio'].map(lambda x: (formatoServicio(x) == True) and (esServicio(x) == True))]\n",
    "    df = df[df['Servicio'].map(lambda x: (x in file == True))]\n",
    "\n",
    "#servs = np.load('drive/My Drive/ProyectoCienciaDeDatos/datos_gps_curso_ciencia_de_datos/servicios_unicos.npy')\n",
    "#servicio(df, servs)\n",
    "#len(df)"
   ]
  },
  {
   "cell_type": "markdown",
   "metadata": {
    "id": "7qCu8V_S5zI0"
   },
   "source": [
    "# Longitud y Latitud"
   ]
  },
  {
   "cell_type": "code",
   "execution_count": null,
   "metadata": {
    "id": "QULpWg_EsC8J"
   },
   "outputs": [],
   "source": [
    "def esCoord(lon, lat):\n",
    "    \"\"\"\n",
    "    lon: int, longitud\n",
    "    lat: int, latitud\n",
    "    \n",
    "    return: True si el par está dentro del rango de \n",
    "    coordenadas de Santiago, False si no\n",
    "    \"\"\"\n",
    "    \n",
    "    if lon < -69 and lon > -71 and \\\n",
    "       lat < -32 and lat > -34:\n",
    "        return True\n",
    "    else:\n",
    "        return False"
   ]
  },
  {
   "cell_type": "code",
   "execution_count": null,
   "metadata": {
    "colab": {
     "base_uri": "https://localhost:8080/",
     "height": 34
    },
    "id": "m4DKmgMxy-DV",
    "outputId": "aa35818f-0dd2-4ae5-a93b-fd04fc0b39ee"
   },
   "outputs": [],
   "source": [
    "def coords(df):\n",
    "    \"\"\"\n",
    "    df: dataframe\n",
    "    \n",
    "    return: dataframe coordenadas que están\n",
    "    dentro de Santiago\n",
    "    \"\"\"\n",
    "    df = df[df['Latitud'].map(lambda x: (x < -32) and (x > -34))]\n",
    "    df = df[df['Longitud'].map(lambda x: (x < -69) and (x > -71))]\n",
    "\n",
    "#coords(df)\n",
    "#len(df)"
   ]
  },
  {
   "cell_type": "markdown",
   "metadata": {
    "id": "PlaUArPnka6J"
   },
   "source": [
    "# DistanciaInicio y DistanciaRuta"
   ]
  },
  {
   "cell_type": "code",
   "execution_count": null,
   "metadata": {
    "id": "q3LJFJNjka6J"
   },
   "outputs": [],
   "source": [
    "def distancia(df):\n",
    "    \"\"\"\n",
    "    df: dataframe\n",
    "    \n",
    "    return: dataframe con distanciainicio y distanciaruta \n",
    "    sin outliers (-1)\n",
    "    \"\"\"\n",
    "    df = df[df['DistanciaInicio']>=0]\n",
    "    df = df[df['DistanciaRuta']>=0]"
   ]
  },
  {
   "cell_type": "markdown",
   "metadata": {
    "id": "bhkwfgQd6B8X"
   },
   "source": [
    "# Fechas"
   ]
  },
  {
   "cell_type": "markdown",
   "metadata": {
    "id": "3WJtL0lUt_s8"
   },
   "source": [
    "Se filtran fechas que no correspondan al mes de Agosto del 2019"
   ]
  },
  {
   "cell_type": "code",
   "execution_count": null,
   "metadata": {
    "id": "oKPuedYP2OlP"
   },
   "outputs": [],
   "source": [
    "def fechas(df):\n",
    "    \"\"\"\n",
    "    df: dataframe\n",
    "    \n",
    "    return: dataframe que sólo conserva fechas del mes de Agosto 2019\n",
    "    \"\"\"\n",
    "    df = df[df['GPS_time'].map(lambda x: (x[5:7] == '08') and (x[:4] == '2019'))]"
   ]
  },
  {
   "cell_type": "code",
   "execution_count": null,
   "metadata": {
    "id": "Gt3qfEvJka6P"
   },
   "outputs": [],
   "source": [
    "def gpsDia(GPS): \n",
    "    \"\"\"\n",
    "    GPS: dataframe con columna de fecha\n",
    "    \n",
    "    return: dataframe con una nueva columna que indica el \n",
    "    día de la semana de cada fecha\n",
    "    \"\"\"\n",
    "    \n",
    "    fecha = GPS['GPS_time']\n",
    "    dias = []\n",
    "    for i in fecha:\n",
    "        d = calendar.day_name[i.weekday()]\n",
    "        dias.append(d)\n",
    "    GPS['dias']=dias"
   ]
  },
  {
   "cell_type": "code",
   "execution_count": null,
   "metadata": {
    "id": "RANkMxDhka6R"
   },
   "outputs": [],
   "source": [
    "def habilday(GPS):\n",
    "    \"\"\"\n",
    "    GPS: dataframe\n",
    "    \n",
    "    return: columna que contiene un 1 si es dia habil y 0 si no \n",
    "    \"\"\"\n",
    "    dia_semana=['Monday','Tuesday','Wednesday','Thursday','Friday']\n",
    "    dias=GPS['dias']\n",
    "    dia_habil=[]\n",
    "    for i in dias:\n",
    "        if i in dia_semana:\n",
    "            dia_habil.append(1)\n",
    "        else:\n",
    "            dia_habil.append(0)\n",
    "    GPS['dia_habil']=dia_habil"
   ]
  },
  {
   "cell_type": "markdown",
   "metadata": {
    "id": "2DgON2ONka6T"
   },
   "source": [
    "# Eliminar columnas"
   ]
  },
  {
   "cell_type": "code",
   "execution_count": null,
   "metadata": {
    "id": "_GYI1tPHka6U"
   },
   "outputs": [],
   "source": [
    "def delete_cols(df):\n",
    "    \"\"\"\n",
    "    df: dataframe\n",
    "    \n",
    "    return: elimina columnas que no se utilizarán\n",
    "    \"\"\"\n",
    "    df = df.drop(columns=['Unnamed:0','Ind1','Ind2','Ind3','Patente', 'GPS_time', 'dias'])"
   ]
  },
  {
   "cell_type": "markdown",
   "metadata": {
    "id": "pcmvKW--ka6W"
   },
   "source": [
    "# Función de limpieza"
   ]
  },
  {
   "cell_type": "code",
   "execution_count": null,
   "metadata": {},
   "outputs": [],
   "source": [
    "def limpieza(df, target = False):\n",
    "    \"\"\"\n",
    "    df: dataframe que se quiere limpiar\n",
    "    target: booleano que indica True si ya se creó la columna a predecir, False si no\n",
    "    \"\"\"\n",
    "    if target:\n",
    "        return delete_cols(df)\n",
    "    else:\n",
    "        df = patente(df)\n",
    "        df = servicio(df)\n",
    "        df = coords(df)\n",
    "        df = distancia(df)\n",
    "        df = gpsDia(df)\n",
    "        return habilday(df)\n"
   ]
  }
 ],
 "metadata": {
  "colab": {
   "collapsed_sections": [],
   "name": "limpieza.ipynb",
   "provenance": []
  },
  "kernelspec": {
   "display_name": "Python 3",
   "language": "python",
   "name": "python3"
  },
  "language_info": {
   "codemirror_mode": {
    "name": "ipython",
    "version": 3
   },
   "file_extension": ".py",
   "mimetype": "text/x-python",
   "name": "python",
   "nbconvert_exporter": "python",
   "pygments_lexer": "ipython3",
   "version": "3.6.5"
  }
 },
 "nbformat": 4,
 "nbformat_minor": 1
}
