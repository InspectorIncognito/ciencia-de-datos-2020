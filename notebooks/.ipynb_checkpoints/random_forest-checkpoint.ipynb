{
 "cells": [
  {
   "cell_type": "markdown",
   "metadata": {},
   "source": [
    "## Librerías y carga de datos"
   ]
  },
  {
   "cell_type": "code",
   "execution_count": null,
   "metadata": {
    "id": "F4BI_5gSneje"
   },
   "outputs": [],
   "source": [
    "from google.colab import drive\n",
    "import pandas as pd\n",
    "from sklearn.ensemble import RandomForestRegressor\n",
    "from sklearn.metrics import mean_absolute_error, mean_squared_error\n",
    "import numpy as np\n",
    "import os\n",
    "import time\n",
    "import pickle"
   ]
  },
  {
   "cell_type": "markdown",
   "metadata": {},
   "source": [
    "Se monta drive en caso de que se trabaje en Colab. En otro caso, comentar celda:"
   ]
  },
  {
   "cell_type": "code",
   "execution_count": null,
   "metadata": {
    "colab": {
     "base_uri": "https://localhost:8080/"
    },
    "id": "HhANxB-Bn7PZ",
    "outputId": "1fc97ab0-96bc-47c8-b51f-2f8eeacc6c99"
   },
   "outputs": [
    {
     "name": "stdout",
     "output_type": "stream",
     "text": [
      "Mounted at /content/drive\n"
     ]
    }
   ],
   "source": [
    "drive.mount('/content/drive')"
   ]
  },
  {
   "cell_type": "markdown",
   "metadata": {},
   "source": [
    "Lectura de datos: en este caso se trabajó en colab, por lo que se debe correr la celda indicada más arriba y luego se modifica el file_path según el nombre de la carpeta de drive en la que estén almacenados los archivos train, val y test. En caso de trabajar local, se debe definir file_path como la dirección de la carpeta que contiene estos documentos.-"
   ]
  },
  {
   "cell_type": "code",
   "execution_count": null,
   "metadata": {
    "id": "Uwg_gtjLoDw5"
   },
   "outputs": [],
   "source": [
    "path_train = 'drive/MyDrive/ProyectoDataScience/train.csv'\n",
    "path_test = 'drive/MyDrive/ProyectoDataScience/test.csv'\n",
    "path_val = 'drive/MyDrive/ProyectoDataScience/val.csv'\n",
    "\n",
    "train=pd.read_csv(path_train, delimiter = ',')"
   ]
  },
  {
   "cell_type": "markdown",
   "metadata": {},
   "source": [
    "## Modelo Random Forest"
   ]
  },
  {
   "cell_type": "markdown",
   "metadata": {},
   "source": [
    "#### Se crea columna de diferencia de distancia entre dos pulsos pareados."
   ]
  },
  {
   "cell_type": "code",
   "execution_count": null,
   "metadata": {
    "id": "WvHP9GdPoLdU"
   },
   "outputs": [],
   "source": [
    "train['Distancia_Total'] = train['DistanciaInicio2'] - train['DistanciaInicio1']"
   ]
  },
  {
   "cell_type": "markdown",
   "metadata": {},
   "source": [
    "#### Creación del modelo y definición de hiperparámetros\n",
    "En este caso se entrena con la columna de distancia como única feature y con el target la columna de diferencia de tiempo."
   ]
  },
  {
   "cell_type": "code",
   "execution_count": null,
   "metadata": {
    "colab": {
     "base_uri": "https://localhost:8080/"
    },
    "id": "garSvRqHoTWY",
    "outputId": "841f647d-eb3d-4e21-ec3e-75baba9b0f84"
   },
   "outputs": [
    {
     "data": {
      "text/plain": [
       "RandomForestRegressor(bootstrap=True, ccp_alpha=0.0, criterion='mse',\n",
       "                      max_depth=None, max_features='auto', max_leaf_nodes=None,\n",
       "                      max_samples=None, min_impurity_decrease=0.0,\n",
       "                      min_impurity_split=None, min_samples_leaf=1,\n",
       "                      min_samples_split=2, min_weight_fraction_leaf=0.0,\n",
       "                      n_estimators=100, n_jobs=None, oob_score=False,\n",
       "                      random_state=42, verbose=0, warm_start=False)"
      ]
     },
     "execution_count": 5,
     "metadata": {
      "tags": []
     },
     "output_type": "execute_result"
    }
   ],
   "source": [
    "rf = RandomForestRegressor(n_estimators = 100, random_state = 42)\n",
    "rf.fit(train['Distancia_Total'].values.reshape(-1,1), train['Diferencia'])"
   ]
  },
  {
   "cell_type": "markdown",
   "metadata": {},
   "source": [
    "Una vez entrenado el modelo, se prepara el conjunto de test para medir resultados."
   ]
  },
  {
   "cell_type": "code",
   "execution_count": null,
   "metadata": {
    "id": "AO7F_N6L7hZ4"
   },
   "outputs": [],
   "source": [
    "train=[] #liberamos memoria\n",
    "test=pd.read_csv(path_test, delimiter = ',')"
   ]
  },
  {
   "cell_type": "code",
   "execution_count": null,
   "metadata": {
    "id": "M6bclJMX8Wup"
   },
   "outputs": [],
   "source": [
    "test['Distancia_Total'] = test['DistanciaInicio2'] - test['DistanciaInicio1'] #columna utilizada para predecir"
   ]
  },
  {
   "cell_type": "markdown",
   "metadata": {},
   "source": [
    "#### Se realiza la predicción y se obtiene el error MAE global"
   ]
  },
  {
   "cell_type": "code",
   "execution_count": null,
   "metadata": {
    "id": "EMaTtSxt78S5"
   },
   "outputs": [],
   "source": [
    "predictions = rf.predict(test['Distancia_Total'].values.reshape(-1,1))"
   ]
  },
  {
   "cell_type": "code",
   "execution_count": null,
   "metadata": {
    "id": "LAO76yPn_mPY"
   },
   "outputs": [],
   "source": [
    "errors = abs(predictions - test['Diferencia'])"
   ]
  },
  {
   "cell_type": "code",
   "execution_count": null,
   "metadata": {
    "colab": {
     "base_uri": "https://localhost:8080/"
    },
    "id": "u7mCsiEj_wRE",
    "outputId": "696af6d8-261d-46f8-e903-b5a142ef573d"
   },
   "outputs": [
    {
     "name": "stdout",
     "output_type": "stream",
     "text": [
      "Mean Absolute Error: 199.38 segundos\n"
     ]
    }
   ],
   "source": [
    "print('Mean Absolute Error:', round(np.mean(errors), 2), 'segundos')"
   ]
  },
  {
   "cell_type": "markdown",
   "metadata": {},
   "source": [
    "Alrededor de 3 minutos de error!"
   ]
  },
  {
   "cell_type": "code",
   "execution_count": null,
   "metadata": {
    "id": "MAKfVBYpAQKh"
   },
   "outputs": [],
   "source": [
    "test = [] #se libera memoria"
   ]
  },
  {
   "cell_type": "markdown",
   "metadata": {},
   "source": [
    "#### Validación"
   ]
  },
  {
   "cell_type": "code",
   "execution_count": null,
   "metadata": {
    "id": "pUsBMBoEBCj9"
   },
   "outputs": [],
   "source": [
    "val=pd.read_csv(path_val, delimiter = ',') #se carga conjunto de validación"
   ]
  },
  {
   "cell_type": "code",
   "execution_count": null,
   "metadata": {
    "id": "F3dHHQ_aBKzO"
   },
   "outputs": [],
   "source": [
    "val['Distancia_Total'] = val['DistanciaInicio2'] - val['DistanciaInicio1'] #columna utilizada para predecir"
   ]
  },
  {
   "cell_type": "code",
   "execution_count": null,
   "metadata": {
    "id": "CCi1xlMnBfbo"
   },
   "outputs": [],
   "source": [
    "def eval_range(model, dataset, top=60, bottom=0):\n",
    "    \"\"\"función que retorna error de la predicción por rango de tiempo\"\"\"  \n",
    "    condition1 = dataset[\"Diferencia\"] >= bottom\n",
    "    condition2 = dataset[\"Diferencia\"] < top\n",
    "    total_cond = np.logical_and(condition1, condition2)\n",
    "    filtered = dataset[total_cond]\n",
    "    if filtered.shape[0] > 0:\n",
    "        y_val = filtered[\"Diferencia\"]\n",
    "        X_val = filtered['Distancia_Total'].values.reshape(-1,1)\n",
    "        y_pred = model.predict(X_val)\n",
    "        rms = mean_squared_error(y_val, y_pred, squared=True)\n",
    "        mae = mean_absolute_error(y_val, y_pred)\n",
    "        r2 = r2_score(y_val, y_pred)\n",
    "        return rms, mae, r2\n",
    "    else:\n",
    "        return None"
   ]
  },
  {
   "cell_type": "code",
   "execution_count": null,
   "metadata": {
    "colab": {
     "base_uri": "https://localhost:8080/"
    },
    "id": "JbE77KBuBmlg",
    "outputId": "40031121-b274-41a9-e034-f1b14e658d2c"
   },
   "outputs": [],
   "source": [
    "rms, mae, r2 = eval_range(rf, val[['Distancia_Total', 'Diferencia']], top=1e20, bottom=0)\n",
    "print(\"Errores globales\")\n",
    "print(\"\\tRMS: \\t{}\".format(rms))\n",
    "print(\"\\tMAE: \\t{}\".format(mae))\n",
    "print(\"\\tR2: \\t{}\\n\".format(r2))\n",
    "\n",
    "\n",
    "ranges = [[0, 5*60], [5*60, 10*60], [10*60, 20*60], [20*60, 40*60], [40*60, 60*60]]\n",
    "for bottom, top in ranges:\n",
    "    mae= eval_range(rf, val[['Distancia_Total', 'Diferencia']], top=top, bottom=bottom)\n",
    "    print(\"Errores para el rango {}min a {}min\".format(bottom//60, top//60))\n",
    "    print(\"\\tRMS: \\t{}\".format(rms))\n",
    "    print(\"\\tMAE: \\t{}\".format(mae))\n",
    "    print(\"\\tR2: \\t{}\\n\".format(r2))"
   ]
  }
 ],
 "metadata": {
  "colab": {
   "name": "random_forest.ipynb",
   "provenance": []
  },
  "kernelspec": {
   "display_name": "Python 3",
   "language": "python",
   "name": "python3"
  },
  "language_info": {
   "codemirror_mode": {
    "name": "ipython",
    "version": 3
   },
   "file_extension": ".py",
   "mimetype": "text/x-python",
   "name": "python",
   "nbconvert_exporter": "python",
   "pygments_lexer": "ipython3",
   "version": "3.6.5"
  }
 },
 "nbformat": 4,
 "nbformat_minor": 1
}
