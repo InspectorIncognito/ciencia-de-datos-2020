{
 "cells": [
  {
   "cell_type": "markdown",
   "metadata": {},
   "source": [
    "## Librerías y carga de datos"
   ]
  },
  {
   "cell_type": "code",
   "execution_count": 12,
   "metadata": {
    "id": "mR7gMSBdhIuo"
   },
   "outputs": [],
   "source": [
    "from google.colab import drive\n",
    "import numpy as np\n",
    "import pandas as pd\n",
    "import os\n",
    "import time\n",
    "import pickle\n",
    "from sklearn.metrics import mean_squared_error, mean_absolute_error, r2_score"
   ]
  },
  {
   "cell_type": "markdown",
   "metadata": {},
   "source": [
    "Se monta drive en caso de que se trabaje en Colab. En otro caso, comentar celda:"
   ]
  },
  {
   "cell_type": "code",
   "execution_count": 2,
   "metadata": {
    "colab": {
     "base_uri": "https://localhost:8080/"
    },
    "id": "qLIwkuIWhNv2",
    "outputId": "d0670659-0bc3-49aa-ea12-d9b0f828bd22"
   },
   "outputs": [],
   "source": [
    "drive.mount('/content/drive')"
   ]
  },
  {
   "cell_type": "markdown",
   "metadata": {},
   "source": [
    "Lectura de datos: en este caso se trabajó en colab, por lo que se debe correr la celda indicada más arriba y luego se modifica el file_path según el nombre de la carpeta de drive en la que estén almacenados los archivos train, val y test. En caso de trabajar local, se debe definir file_path como la dirección de la carpeta que contiene estos documentos.-"
   ]
  },
  {
   "cell_type": "code",
   "execution_count": 3,
   "metadata": {
    "id": "EuI8a5LEjEre"
   },
   "outputs": [],
   "source": [
    "file_path = 'D:\\Descargas\\datos_gps_curso_ciencia_de_datos'\n",
    "train_path = file_path + '/train.csv'\n",
    "val_path = file_path + '/val.csv'\n",
    "test_path = file_path + '/test.csv'"
   ]
  },
  {
   "cell_type": "markdown",
   "metadata": {
    "id": "HFep0T0_pgcS"
   },
   "source": [
    "## Modelo de Regresión Lineal"
   ]
  },
  {
   "cell_type": "markdown",
   "metadata": {},
   "source": [
    "#### Se crea columna de diferencia de distancia entre dos pulsos pareados."
   ]
  },
  {
   "cell_type": "code",
   "execution_count": 4,
   "metadata": {
    "id": "TJCE8ptfkaex"
   },
   "outputs": [],
   "source": [
    "train = pd.read_csv(train_path, delimiter = ',')"
   ]
  },
  {
   "cell_type": "code",
   "execution_count": 5,
   "metadata": {
    "id": "qRalWAo-mYrI"
   },
   "outputs": [],
   "source": [
    "train['Distancia_Total'] = train['DistanciaInicio2'] - train['DistanciaInicio1']"
   ]
  },
  {
   "cell_type": "code",
   "execution_count": 6,
   "metadata": {
    "id": "tOiAiZa45PNP"
   },
   "outputs": [],
   "source": [
    "with open('encoding1.pickle', 'rb') as handle:\n",
    "    servs_encoding = pickle.load(handle)"
   ]
  },
  {
   "cell_type": "code",
   "execution_count": 7,
   "metadata": {
    "id": "cfIG1_I95xPe"
   },
   "outputs": [],
   "source": [
    "train['Servicio'] = train['Servicio'].apply(lambda x: servs_encoding[x])"
   ]
  },
  {
   "cell_type": "markdown",
   "metadata": {},
   "source": [
    "#### Creación del modelo y definición de hiperparámetros\n",
    "En este caso se entrena con la columna de distancia y con la primera codificación de los servicios creada en codificacion_servicios.ipynb como features y con el target la columna de diferencia de tiempo."
   ]
  },
  {
   "cell_type": "code",
   "execution_count": 9,
   "metadata": {
    "id": "ah4NwrFJmYtV"
   },
   "outputs": [],
   "source": [
    "X_train = train[['Distancia_Total', 'Servicio']]\n",
    "y_train = train['Diferencia']"
   ]
  },
  {
   "cell_type": "code",
   "execution_count": 10,
   "metadata": {},
   "outputs": [],
   "source": [
    "del train #se libera memoria"
   ]
  },
  {
   "cell_type": "code",
   "execution_count": 11,
   "metadata": {
    "colab": {
     "base_uri": "https://localhost:8080/",
     "height": 178
    },
    "id": "hmmA-qqFnYJK",
    "outputId": "bfd8550c-a760-45bf-d670-faaa7fe206b6"
   },
   "outputs": [
    {
     "data": {
      "text/plain": [
       "(35818879, 2)"
      ]
     },
     "execution_count": 11,
     "metadata": {},
     "output_type": "execute_result"
    }
   ],
   "source": [
    "X_train = X_train.values #reshape(-1,1)\n",
    "X_train.shape"
   ]
  },
  {
   "cell_type": "code",
   "execution_count": 3,
   "metadata": {},
   "outputs": [],
   "source": [
    "from sklearn.linear_model import LinearRegression"
   ]
  },
  {
   "cell_type": "code",
   "execution_count": null,
   "metadata": {},
   "outputs": [],
   "source": [
    "reg = LinearRegression()\n",
    "reg.fit(X_train, y_train)"
   ]
  },
  {
   "cell_type": "code",
   "execution_count": null,
   "metadata": {},
   "outputs": [],
   "source": [
    "#se guarda el modelo entrenado para usarlo más adelante\n",
    "reg_path = 'LRegressor.sav'\n",
    "pickle.dump(reg, open(reg_path, 'wb'))"
   ]
  },
  {
   "cell_type": "markdown",
   "metadata": {},
   "source": [
    "Una vez entrenado el modelo, se prepara el conjunto de test para medir resultados."
   ]
  },
  {
   "cell_type": "markdown",
   "metadata": {},
   "source": [
    "## Modelo de Regresión Polinomial\n",
    "Se entrena el modelo de regresión polinomial con grado 4"
   ]
  },
  {
   "cell_type": "code",
   "execution_count": null,
   "metadata": {},
   "outputs": [],
   "source": [
    "from sklearn.preprocessing import PolynomialFeatures "
   ]
  },
  {
   "cell_type": "code",
   "execution_count": 12,
   "metadata": {
    "colab": {
     "base_uri": "https://localhost:8080/"
    },
    "id": "gpQWIHBnmNCy",
    "outputId": "fc9d882d-546a-4772-af48-ceaf7f624f94"
   },
   "outputs": [],
   "source": [
    "poly = PolynomialFeatures(degree = 4) \n",
    "X_train_pol = poly.fit_transform(X_train) \n",
    "\n",
    "pol_reg = LinearRegression() \n",
    "pol_reg.fit(X_train_pol, y_train)\n",
    "\n",
    "poly_path = 'polynomial.sav'\n",
    "pickle.dump(poly, open(poly_path, 'wb'))\n",
    "reg_path = 'LRegressor.sav'\n",
    "pickle.dump(pol_reg, open(reg_path, 'wb'))"
   ]
  },
  {
   "cell_type": "code",
   "execution_count": 13,
   "metadata": {},
   "outputs": [],
   "source": [
    "del poly #liberar memoria"
   ]
  },
  {
   "cell_type": "markdown",
   "metadata": {},
   "source": [
    "Una vez entrenado el modelo, se prepara el conjunto de validación para medir resultados."
   ]
  },
  {
   "cell_type": "code",
   "execution_count": 14,
   "metadata": {
    "id": "Mcvvqm68nOAO"
   },
   "outputs": [],
   "source": [
    "from sklearn.metrics import r2_score\n",
    "from sklearn.metrics import mean_absolute_error\n",
    "from sklearn.metrics import mean_squared_error"
   ]
  },
  {
   "cell_type": "code",
   "execution_count": 15,
   "metadata": {
    "id": "3U3HIFdqpLVk"
   },
   "outputs": [],
   "source": [
    "y_pred = reg.predict(X_train)\n",
    "y_pred_pol = pol_reg.predict(X_train_pol)"
   ]
  },
  {
   "cell_type": "code",
   "execution_count": 16,
   "metadata": {},
   "outputs": [],
   "source": [
    "del X_train\n",
    "del X_train_pol"
   ]
  },
  {
   "cell_type": "markdown",
   "metadata": {},
   "source": [
    "Resultados regresión lineal:"
   ]
  },
  {
   "cell_type": "code",
   "execution_count": null,
   "metadata": {
    "colab": {
     "base_uri": "https://localhost:8080/"
    },
    "id": "EcDYmOPipURO",
    "outputId": "af8ff07c-cc36-4dcf-8f7a-22a36e9c7b0c"
   },
   "outputs": [],
   "source": [
    "r2 = r2_score(y_train, y_pred)\n",
    "mae = mean_absolute_error(y_train, y_pred)\n",
    "\n",
    "print('R2 score: ' + str(r2) )\n",
    "print('MAE score: ' + str(mae))"
   ]
  },
  {
   "cell_type": "markdown",
   "metadata": {},
   "source": [
    "Resultados regresión polinomial:"
   ]
  },
  {
   "cell_type": "code",
   "execution_count": null,
   "metadata": {},
   "outputs": [],
   "source": [
    "r2 = r2_score(y_train, y_pred_pol)\n",
    "mae = mean_absolute_error(y_train, y_pred_pol)\n",
    "\n",
    "print('R2 score: ' + str(r2) )\n",
    "print('MAE score: ' + str(mae))"
   ]
  },
  {
   "cell_type": "markdown",
   "metadata": {
    "id": "d1J2vxq5pjKq"
   },
   "source": [
    "#### Validación"
   ]
  },
  {
   "cell_type": "code",
   "execution_count": 4,
   "metadata": {},
   "outputs": [],
   "source": [
    "poly_path = 'polynomial.sav'\n",
    "reg_path = 'LRegressor.sav'\n",
    "\n",
    "poly = pickle.load(open(poly_path, 'rb'))\n",
    "reg = pickle.load(open(reg_path, 'rb'))"
   ]
  },
  {
   "cell_type": "code",
   "execution_count": 5,
   "metadata": {
    "id": "VldBMUCsoppA"
   },
   "outputs": [],
   "source": [
    "val = pd.read_csv(val_path, delimiter = ',')"
   ]
  },
  {
   "cell_type": "code",
   "execution_count": 6,
   "metadata": {
    "id": "i1VdNGzHopr3"
   },
   "outputs": [],
   "source": [
    "val['Distancia_Total'] = val['DistanciaInicio2'] - val['DistanciaInicio1']"
   ]
  },
  {
   "cell_type": "code",
   "execution_count": 7,
   "metadata": {},
   "outputs": [],
   "source": [
    "with open('encoding1.pickle', 'rb') as handle:\n",
    "    servs_encoding = pickle.load(handle)"
   ]
  },
  {
   "cell_type": "code",
   "execution_count": 8,
   "metadata": {},
   "outputs": [],
   "source": [
    "val['Servicio'] = val['Servicio'].apply(lambda x: servs_encoding[x])"
   ]
  },
  {
   "cell_type": "code",
   "execution_count": 9,
   "metadata": {
    "id": "RehZU5c4pqb3"
   },
   "outputs": [],
   "source": [
    "val_train = val[['Distancia_Total','Servicio']]\n",
    "val_target = val['Diferencia']\n",
    "\n",
    "val_train = val_train.values#.reshape(-1,1)"
   ]
  },
  {
   "cell_type": "code",
   "execution_count": 10,
   "metadata": {
    "id": "_nba8K2jpFLR"
   },
   "outputs": [],
   "source": [
    "#y_pred_val = reg.predict(val_train)\n",
    "\n",
    "y_pred = reg.predict(poly.fit_transform(val_train))"
   ]
  },
  {
   "cell_type": "code",
   "execution_count": 14,
   "metadata": {
    "colab": {
     "base_uri": "https://localhost:8080/"
    },
    "id": "f2FyyVRWp4v8",
    "outputId": "ab3ec66a-7a89-4c4f-ae95-b4da3e9afb98"
   },
   "outputs": [
    {
     "name": "stdout",
     "output_type": "stream",
     "text": [
      "R2 score: 0.8328721860385395\n",
      "MAE score: 187.61020845743298\n"
     ]
    }
   ],
   "source": [
    "r2_val = r2_score(val_target, y_pred)\n",
    "mae_val = mean_absolute_error(val_target, y_pred)\n",
    "\n",
    "print('R2 score: ' + str(r2_val))\n",
    "print('MAE score: ' + str(mae_val))"
   ]
  },
  {
   "cell_type": "code",
   "execution_count": 36,
   "metadata": {
    "id": "27pceE3BqEOR"
   },
   "outputs": [],
   "source": [
    "def eval_range(model, dataset, top=60, bottom=0):\n",
    "    condition1 = dataset[\"Diferencia\"] >= bottom\n",
    "    condition2 = dataset[\"Diferencia\"] < top\n",
    "    total_cond = np.logical_and(condition1, condition2)\n",
    "    filtered = dataset[total_cond]\n",
    "    if filtered.shape[0] > 0:\n",
    "        y_val = filtered[\"Diferencia\"]\n",
    "        X_val = filtered[['Distancia_Total','Servicio']].values\n",
    "        y_pred = model.predict(poly.fit_transform(X_val))\n",
    "        rms = mean_squared_error(y_val, y_pred)\n",
    "        mae = mean_absolute_error(y_val, y_pred)\n",
    "        r2 = r2_score(y_val, y_pred)\n",
    "        return rms, mae, r2\n",
    "    else:\n",
    "        return None, None, None"
   ]
  },
  {
   "cell_type": "code",
   "execution_count": 38,
   "metadata": {
    "colab": {
     "base_uri": "https://localhost:8080/"
    },
    "id": "b1Q4CuOBm8n2",
    "outputId": "3e371129-9315-4f09-cc61-e978ab4be5ec"
   },
   "outputs": [
    {
     "name": "stdout",
     "output_type": "stream",
     "text": [
      "Errores globales\n",
      "\tRMS: \t99584.4398839407\n",
      "\tMAE: \t187.61020845743298\n",
      "\tR2: \t0.8328721860385395\n",
      "\n",
      "Errores para el rango 0min a 5min\n",
      "\tRMS: \t9624.843200283021\n",
      "\tMAE: \t58.35425066358908\n",
      "\tR2: \t-0.6623966528799987\n",
      "\n",
      "Errores para el rango 5min a 10min\n",
      "\tRMS: \t47902.98914841107\n",
      "\tMAE: \t151.63420100504382\n",
      "\tR2: \t-5.4646168221558975\n",
      "\n",
      "Errores para el rango 10min a 20min\n",
      "\tRMS: \t123622.77646940027\n",
      "\tMAE: \t258.3277316538383\n",
      "\tR2: \t-3.2018806891883367\n",
      "\n",
      "Errores para el rango 20min a 40min\n",
      "\tRMS: \t224462.11690217815\n",
      "\tMAE: \t375.13478357034603\n",
      "\tR2: \t-0.9609597235932097\n",
      "\n",
      "Errores para el rango 40min a 60min\n",
      "\tRMS: \t595085.1645630051\n",
      "\tMAE: \t627.1675352436276\n",
      "\tR2: \t-4.129262208408644\n",
      "\n"
     ]
    }
   ],
   "source": [
    "rms, mae, r2 = eval_range(reg, val[['Distancia_Total', 'Diferencia','Servicio']], top=1e20, bottom=0)\n",
    "print(\"Errores globales\")\n",
    "print(\"\\tRMS: \\t{}\".format(rms))\n",
    "print(\"\\tMAE: \\t{}\".format(mae))\n",
    "print(\"\\tR2: \\t{}\\n\".format(r2))\n",
    "\n",
    "\n",
    "ranges = [[0, 5*60], [5*60, 10*60], [10*60, 20*60], [20*60, 40*60], [40*60, 60*60]]\n",
    "for bottom, top in ranges:\n",
    "    rms, mae, r2 = eval_range(reg, val[['Distancia_Total', 'Diferencia','Servicio']], top=top, bottom=bottom)\n",
    "    print(\"Errores para el rango {}min a {}min\".format(bottom//60, top//60))\n",
    "    print(\"\\tRMS: \\t{}\".format(rms))\n",
    "    print(\"\\tMAE: \\t{}\".format(mae))\n",
    "    print(\"\\tR2: \\t{}\\n\".format(r2))"
   ]
  },
  {
   "cell_type": "code",
   "execution_count": null,
   "metadata": {},
   "outputs": [],
   "source": []
  }
 ],
 "metadata": {
  "colab": {
   "name": "transapp_reg+servicios.ipynb",
   "provenance": [],
   "toc_visible": true
  },
  "kernelspec": {
   "display_name": "Python 3",
   "language": "python",
   "name": "python3"
  },
  "language_info": {
   "codemirror_mode": {
    "name": "ipython",
    "version": 3
   },
   "file_extension": ".py",
   "mimetype": "text/x-python",
   "name": "python",
   "nbconvert_exporter": "python",
   "pygments_lexer": "ipython3",
   "version": "3.6.5"
  }
 },
 "nbformat": 4,
 "nbformat_minor": 1
}
