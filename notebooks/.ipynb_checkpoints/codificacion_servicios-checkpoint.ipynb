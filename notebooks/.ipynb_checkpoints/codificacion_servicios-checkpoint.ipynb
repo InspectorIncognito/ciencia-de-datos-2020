{
 "cells": [
  {
   "cell_type": "markdown",
   "metadata": {
    "id": "xtP-S0FAFy7W"
   },
   "source": [
    "# Codificación para Servicios\n",
    "En este .ipynb se implementan 2 tipos de codificación para Servicios, que intentan solucionar el problema de la alta dimensionalidad de la codificación tipo one-hot encoding. Ambas consideran codificar a partir de una medida de similitud entre recorridos, que se detalla más adelante."
   ]
  },
  {
   "cell_type": "markdown",
   "metadata": {},
   "source": [
    "Se monta drive en caso de que se trabaje en Colab. En otro caso, comentar celda:"
   ]
  },
  {
   "cell_type": "code",
   "execution_count": null,
   "metadata": {
    "colab": {
     "base_uri": "https://localhost:8080/"
    },
    "id": "5G1zymE7rhs4",
    "outputId": "f046646d-36ce-44f9-dd37-68521f74a950"
   },
   "outputs": [],
   "source": [
    "from google.colab import drive\n",
    "drive.mount('/content/drive')"
   ]
  },
  {
   "cell_type": "markdown",
   "metadata": {},
   "source": [
    "Instalación de librería que implementa *Dynamic Time Warping*. Será utilizada para calcular similitud."
   ]
  },
  {
   "cell_type": "code",
   "execution_count": null,
   "metadata": {
    "colab": {
     "base_uri": "https://localhost:8080/"
    },
    "id": "vVAZuGgBzcoj",
    "outputId": "b0091be2-1ea9-4002-c0bb-4dbd400779d6"
   },
   "outputs": [],
   "source": [
    "!pip install dtw"
   ]
  },
  {
   "cell_type": "markdown",
   "metadata": {},
   "source": [
    "### Librerías"
   ]
  },
  {
   "cell_type": "code",
   "execution_count": null,
   "metadata": {
    "id": "grc2KuVVsQSL"
   },
   "outputs": [],
   "source": [
    "import pandas as pd\n",
    "import numpy as np\n",
    "import matplotlib.pyplot as plt\n",
    "from dtw import dtw\n",
    "import math\n",
    "import pickle"
   ]
  },
  {
   "cell_type": "markdown",
   "metadata": {
    "id": "eG7M8YE7F8dY"
   },
   "source": [
    "Lectura de datos: en este caso se trabajó en colab, por lo que se debe correr la celda indicada más arriba y luego se modifica el file_path según el nombre de la carpeta de drive en la que estén almacenados los archivos train, val y test. En caso de trabajar local, se debe definir file_path como la dirección de la carpeta que contiene estos documentos.-"
   ]
  },
  {
   "cell_type": "code",
   "execution_count": null,
   "metadata": {
    "id": "m8OmhQozsBAv"
   },
   "outputs": [],
   "source": [
    "#carga de datos\n",
    "file_path = 'drive/MyDrive/ProyectoCienciaDeDatos/datos'\n",
    "train_path = file_path + '/train.csv'\n",
    "# val_path = file_path + '/val.csv'\n",
    "# test_path = file_path + '/test.csv'"
   ]
  },
  {
   "cell_type": "code",
   "execution_count": null,
   "metadata": {
    "id": "fu0JNMpksK1X"
   },
   "outputs": [],
   "source": [
    "train = pd.read_csv(train_path, delimiter = ',')"
   ]
  },
  {
   "cell_type": "markdown",
   "metadata": {},
   "source": [
    "La siguiente celda lee el archivo shape, por lo que nuevamente se debe modificar el path, ya sea se esté trabajando en drive o local."
   ]
  },
  {
   "cell_type": "code",
   "execution_count": null,
   "metadata": {
    "id": "2wKsWr3Js-Hd"
   },
   "outputs": [],
   "source": [
    "#carga de shape\n",
    "shape = pd.read_csv('drive/MyDrive/ProyectoCienciaDeDatos/datos_gps_curso_ciencia_de_datos/2019-07-01.shape', sep='|', header=0)\n",
    "shape.drop(['EsSeccionIni', 'Operador', 'ServicioUsuario'], axis=1, inplace=True)"
   ]
  },
  {
   "cell_type": "code",
   "execution_count": null,
   "metadata": {
    "colab": {
     "base_uri": "https://localhost:8080/",
     "height": 195
    },
    "id": "w-fHWyGjtjIg",
    "outputId": "43cf3010-e379-4e57-d9ea-fdb4663c3f2f"
   },
   "outputs": [],
   "source": [
    "shape.head()"
   ]
  },
  {
   "cell_type": "markdown",
   "metadata": {
    "id": "3tZyfREJGDa9"
   },
   "source": [
    "## Codificación 1\n",
    "\n",
    "Una primera idea de codificación consiste en calcular distancias entre los distintos servicios y un servicio en particular seleccionado como pivote o servicio de referencia, y a partir de las distancias deducir una medida de similitud. Para decidir algún criterio para elegir el servicio de referencia, se visualizan gráficamente los servicios.\n",
    "\n",
    "Visualización de servicios de interés:"
   ]
  },
  {
   "cell_type": "code",
   "execution_count": null,
   "metadata": {
    "colab": {
     "base_uri": "https://localhost:8080/",
     "height": 592
    },
    "id": "gVjKAsYd1hXc",
    "outputId": "a05ee3b1-51fe-45d3-c8d0-3cd20e75e36d"
   },
   "outputs": [],
   "source": [
    "servs = train.Servicio.unique()\n",
    "#servs = ['T301 00I']\n",
    "plt.figure(figsize=(15,10))\n",
    "for serv in servs:\n",
    "    coord = shape.loc[shape.Servicio == serv]\n",
    "    plt.plot(coord.Latitud, coord.Longitud)\n",
    "    plt.legend(servs)\n",
    "plt.show()"
   ]
  },
  {
   "cell_type": "markdown",
   "metadata": {
    "id": "725aZoAZGFz8"
   },
   "source": [
    "Se elige el servicio T301 00I como referencia para calcular distancias o similitudes que permitan codificar en base a ellas, ya que según la visualización gráfica parece ser el más central y extenso dentro de las opciones disponibles. \n",
    "\n",
    "Como los .shape de distintos servicios tienen diferente cantidad de puntos de latitud y longitud, se utiliza el algoritmo de *Dynamic Time Warping* para hacer el cálculo de distancias y a partir de ellas deducir similitud, puesto que dicho algoritmo permite comparar secuencias de distinto tamaño.  \n",
    "\n",
    "Se define la función **similarity_encoding** que recibe una lista de servicios y para cada uno calcula la distancia euclideana con respecto al servicio T301 00I, utilizando DTW. Cada distancia es transformada a una medida de similitud según la siguiente transfromación:  \n",
    "\n",
    "\\begin{equation}\n",
    "sim = \\frac{1}{1 + dist}\n",
    "\\end{equation}\n",
    "\n",
    "Las similitudes resultantes se utilizan como codificación y se almacenan dentro de un diccionario en que las llaves son los nombres de los servicios. La función retorna este diccionario."
   ]
  },
  {
   "cell_type": "code",
   "execution_count": null,
   "metadata": {
    "id": "5hxE3ut_GPlj"
   },
   "outputs": [],
   "source": [
    "def similarity_encoding(servs):\n",
    "    \"\"\"\n",
    "    servs: lista con nombres de servicios\n",
    "    \n",
    "    return: diccionario con codificación por similitud con\n",
    "    respecto a T301 00I\n",
    "    \"\"\"\n",
    "    encoding = {}\n",
    "    N = len(servs)\n",
    "    dist = lambda x1, x2: math.hypot(x2[0] - x1[0], x2[1] - x1[1])\n",
    "    a = shape.loc[shape.Servicio == 'T301 00I']\n",
    "    a = [tuple(x) for x in a[['Latitud','Longitud']].to_numpy()]\n",
    "    for i in range(N):\n",
    "        b = shape.loc[shape.Servicio == servs[i]]\n",
    "        b = [tuple(x) for x in b[['Latitud','Longitud']].to_numpy()]\n",
    "        d = dtw(a, b, dist=dist)[0]\n",
    "        sim = 1/(1 + d)\n",
    "        encoding[servs[i]] = sim\n",
    "    return encoding"
   ]
  },
  {
   "cell_type": "code",
   "execution_count": null,
   "metadata": {
    "colab": {
     "base_uri": "https://localhost:8080/"
    },
    "id": "jOknVMJPIJil",
    "outputId": "4c5e4538-9510-4072-ab55-d7c80a357a1c"
   },
   "outputs": [],
   "source": [
    "encoding_dict = similarity_encoding(servs)"
   ]
  },
  {
   "cell_type": "markdown",
   "metadata": {},
   "source": [
    "Se almacena el diccionario de Codificación 1 en un archivo .pickle\n",
    "Quedará guardado en la misma carpeta en la que se encuentre el notebook en caso de correr local y en la misma carpeta que se definió al principio en caso de correr en colab."
   ]
  },
  {
   "cell_type": "code",
   "execution_count": null,
   "metadata": {
    "id": "0G7F3yBfKPOQ"
   },
   "outputs": [],
   "source": [
    "with open('encoding1.pickle', 'wb') as handle:\n",
    "    pickle.dump(encoding_dict, handle, protocol=pickle.HIGHEST_PROTOCOL)"
   ]
  },
  {
   "cell_type": "markdown",
   "metadata": {},
   "source": [
    "## Codificación 2\n",
    "Un segundo intento considera las similitudes entre todos los pares posibles de servicios. Se calcula la matriz de similitud entre los .shape de los servicios considerados. La similitud se calcula de manera análoga a lo realizado para la codificación 1, calculando distancia euclideana con DTW y luego transformando a similitud. Lo anterior se implementa en la función **similarity_matrix_dtw** que recibe una lista de servicios y entrega su matriz de similitudes correspondiente.\n",
    "\n",
    "Una vez calculada la matriz de similitudes se prueba definiendo como codificación los valores propios de dicha matriz, de manera que cada valor propio representa a su servicio respectivo. Realizado esto, se guarda un diccionario con las codificaciones para cada servicio."
   ]
  },
  {
   "cell_type": "code",
   "execution_count": null,
   "metadata": {
    "id": "zMwYQoei0yya"
   },
   "outputs": [],
   "source": [
    "def similarity_matrix_dtw(servs):   \n",
    "    \"\"\"\n",
    "    servs: lista con nombres de servicios\n",
    "    \n",
    "    return: matriz de similitud usando Dynamic Time Warping \n",
    "    para distancias\n",
    "    \"\"\"\n",
    "    N = len(servs)\n",
    "    sim_matrix = np.zeros((N, N))\n",
    "    dist = lambda x1, x2: math.hypot(x2[0] - x1[0], x2[1] - x1[1])\n",
    "    for i in range(N):\n",
    "        for j in range(N):\n",
    "            a = shape.loc[shape.Servicio == servs[i]]\n",
    "            b = shape.loc[shape.Servicio == servs[j]]\n",
    "            a = [tuple(x) for x in a[['Latitud','Longitud']].to_numpy()]\n",
    "            b = [tuple(x) for x in b[['Latitud','Longitud']].to_numpy()]\n",
    "            d = dtw(a, b, dist=dist)[0]\n",
    "            sim_matrix[i,j] = 1/(1 + d)\n",
    "    return sim_matrix"
   ]
  },
  {
   "cell_type": "code",
   "execution_count": null,
   "metadata": {
    "colab": {
     "base_uri": "https://localhost:8080/"
    },
    "id": "628uVziq78Zu",
    "outputId": "48f90e5d-27d6-4009-ff03-be39ca091361"
   },
   "outputs": [],
   "source": [
    "#matriz de similitud\n",
    "sim = similarity_matrix_dtw(servs)"
   ]
  },
  {
   "cell_type": "code",
   "execution_count": null,
   "metadata": {
    "colab": {
     "base_uri": "https://localhost:8080/"
    },
    "id": "A-ySpdGR9Svd",
    "outputId": "46af51bb-fdd8-4011-8d5b-a8b62240c4fd"
   },
   "outputs": [],
   "source": [
    "#codificación 2\n",
    "w, v = np.linalg.eig(sim)\n",
    "enc = {}\n",
    "for i,serv in enumerate(servs):\n",
    "    enc[serv] = w[i]"
   ]
  },
  {
   "cell_type": "markdown",
   "metadata": {},
   "source": [
    "La codificación 2 también es guardada en un archivo .pickle, para ser utilizada en otros notebooks:\n",
    "Quedará guardado en la misma carpeta en la que se encuentre el notebook en caso de correr local y en la misma carpeta que se definió al principio en caso de correr en colab."
   ]
  },
  {
   "cell_type": "code",
   "execution_count": null,
   "metadata": {
    "id": "iYXPWSS2cUa3"
   },
   "outputs": [],
   "source": [
    "with open('encoding2.pickle', 'wb') as handle:\n",
    "    pickle.dump(enc, handle, protocol=pickle.HIGHEST_PROTOCOL)"
   ]
  },
  {
   "cell_type": "markdown",
   "metadata": {
    "id": "6aKyxweYcinC"
   },
   "source": [
    "La siguiente celda indica cuál es el código para leer archivos del tipo pickle (descomentar para utilizar)"
   ]
  },
  {
   "cell_type": "code",
   "execution_count": 1,
   "metadata": {},
   "outputs": [],
   "source": [
    "#with open('encoding2.pickle', 'rb') as handle:\n",
    "#    b = pickle.load(handle)"
   ]
  }
 ],
 "metadata": {
  "colab": {
   "collapsed_sections": [],
   "name": "codificacion_servicios.ipynb",
   "provenance": []
  },
  "kernelspec": {
   "display_name": "Python 3",
   "language": "python",
   "name": "python3"
  },
  "language_info": {
   "codemirror_mode": {
    "name": "ipython",
    "version": 3
   },
   "file_extension": ".py",
   "mimetype": "text/x-python",
   "name": "python",
   "nbconvert_exporter": "python",
   "pygments_lexer": "ipython3",
   "version": "3.6.5"
  }
 },
 "nbformat": 4,
 "nbformat_minor": 1
}
