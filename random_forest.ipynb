{
  "nbformat": 4,
  "nbformat_minor": 0,
  "metadata": {
    "colab": {
      "name": "random_forest.ipynb",
      "provenance": []
    },
    "kernelspec": {
      "name": "python3",
      "display_name": "Python 3"
    }
  },
  "cells": [
    {
      "cell_type": "code",
      "metadata": {
        "id": "F4BI_5gSneje"
      },
      "source": [
        "from google.colab import drive\n",
        "import pandas as pd\n",
        "from sklearn.ensemble import RandomForestRegressor\n",
        "from sklearn.metrics import mean_absolute_error, mean_squared_error\n",
        "import numpy as np\n",
        "import os\n",
        "import time\n",
        "import pickle"
      ],
      "execution_count": null,
      "outputs": []
    },
    {
      "cell_type": "code",
      "metadata": {
        "colab": {
          "base_uri": "https://localhost:8080/"
        },
        "id": "HhANxB-Bn7PZ",
        "outputId": "1fc97ab0-96bc-47c8-b51f-2f8eeacc6c99"
      },
      "source": [
        "drive.mount('/content/drive')"
      ],
      "execution_count": null,
      "outputs": [
        {
          "output_type": "stream",
          "text": [
            "Mounted at /content/drive\n"
          ],
          "name": "stdout"
        }
      ]
    },
    {
      "cell_type": "code",
      "metadata": {
        "id": "Uwg_gtjLoDw5"
      },
      "source": [
        "path_train = 'drive/MyDrive/ProyectoDataScience/train.csv'\n",
        "path_test = 'drive/MyDrive/ProyectoDataScience/test.csv'\n",
        "path_val = 'drive/MyDrive/ProyectoDataScience/val.csv'\n",
        "\n",
        "train=pd.read_csv(path_train, delimiter = ',')\n",
        "#test=pd.read_csv(path_test, delimiter = ',')"
      ],
      "execution_count": null,
      "outputs": []
    },
    {
      "cell_type": "code",
      "metadata": {
        "id": "WvHP9GdPoLdU"
      },
      "source": [
        "train['Distancia_Total'] = train['DistanciaInicio2'] - train['DistanciaInicio1']"
      ],
      "execution_count": null,
      "outputs": []
    },
    {
      "cell_type": "code",
      "metadata": {
        "id": "garSvRqHoTWY",
        "colab": {
          "base_uri": "https://localhost:8080/"
        },
        "outputId": "841f647d-eb3d-4e21-ec3e-75baba9b0f84"
      },
      "source": [
        "rf = RandomForestRegressor(n_estimators = 100, random_state = 42)\n",
        "rf.fit(train['Distancia_Total'].values.reshape(-1,1), train['Diferencia'])"
      ],
      "execution_count": null,
      "outputs": [
        {
          "output_type": "execute_result",
          "data": {
            "text/plain": [
              "RandomForestRegressor(bootstrap=True, ccp_alpha=0.0, criterion='mse',\n",
              "                      max_depth=None, max_features='auto', max_leaf_nodes=None,\n",
              "                      max_samples=None, min_impurity_decrease=0.0,\n",
              "                      min_impurity_split=None, min_samples_leaf=1,\n",
              "                      min_samples_split=2, min_weight_fraction_leaf=0.0,\n",
              "                      n_estimators=100, n_jobs=None, oob_score=False,\n",
              "                      random_state=42, verbose=0, warm_start=False)"
            ]
          },
          "metadata": {
            "tags": []
          },
          "execution_count": 5
        }
      ]
    },
    {
      "cell_type": "code",
      "metadata": {
        "id": "AO7F_N6L7hZ4"
      },
      "source": [
        "train=[]#liberamos memoria\n",
        "test=pd.read_csv(path_test, delimiter = ',')"
      ],
      "execution_count": null,
      "outputs": []
    },
    {
      "cell_type": "code",
      "metadata": {
        "id": "M6bclJMX8Wup"
      },
      "source": [
        "test['Distancia_Total'] = test['DistanciaInicio2'] - test['DistanciaInicio1']"
      ],
      "execution_count": null,
      "outputs": []
    },
    {
      "cell_type": "code",
      "metadata": {
        "id": "EMaTtSxt78S5"
      },
      "source": [
        "predictions = rf.predict(test['Distancia_Total'].values.reshape(-1,1))"
      ],
      "execution_count": null,
      "outputs": []
    },
    {
      "cell_type": "code",
      "metadata": {
        "id": "LAO76yPn_mPY"
      },
      "source": [
        "errors = abs(predictions - test['Diferencia'])"
      ],
      "execution_count": null,
      "outputs": []
    },
    {
      "cell_type": "code",
      "metadata": {
        "colab": {
          "base_uri": "https://localhost:8080/"
        },
        "id": "u7mCsiEj_wRE",
        "outputId": "696af6d8-261d-46f8-e903-b5a142ef573d"
      },
      "source": [
        "print('Mean Absolute Error:', round(np.mean(errors), 2), 'segundos')"
      ],
      "execution_count": null,
      "outputs": [
        {
          "output_type": "stream",
          "text": [
            "Mean Absolute Error: 199.38 segundos\n"
          ],
          "name": "stdout"
        }
      ]
    },
    {
      "cell_type": "code",
      "metadata": {
        "id": "MAKfVBYpAQKh"
      },
      "source": [
        "test = []"
      ],
      "execution_count": null,
      "outputs": []
    },
    {
      "cell_type": "code",
      "metadata": {
        "id": "pUsBMBoEBCj9"
      },
      "source": [
        "val=pd.read_csv(path_val, delimiter = ',')"
      ],
      "execution_count": null,
      "outputs": []
    },
    {
      "cell_type": "code",
      "metadata": {
        "id": "F3dHHQ_aBKzO"
      },
      "source": [
        "val['Distancia_Total'] = val['DistanciaInicio2'] - val['DistanciaInicio1']"
      ],
      "execution_count": null,
      "outputs": []
    },
    {
      "cell_type": "code",
      "metadata": {
        "id": "CCi1xlMnBfbo"
      },
      "source": [
        "def eval_range(model, dataset, top=60, bottom=0):\n",
        "  condition1 = dataset[\"Diferencia\"] >= bottom\n",
        "  condition2 = dataset[\"Diferencia\"] < top\n",
        "  total_cond = np.logical_and(condition1, condition2)\n",
        "  filtered = dataset[total_cond]\n",
        "  if filtered.shape[0] > 0:\n",
        "    y_val = filtered[\"Diferencia\"]\n",
        "    X_val = filtered['Distancia_Total'].values.reshape(-1,1)\n",
        "    y_pred = model.predict(X_val)\n",
        "    #rms = mean_squared_error(y_val, y_pred, squared=True)\n",
        "    mae = mean_absolute_error(y_val, y_pred)\n",
        "    #r2 = r2_score(y_val, y_pred)\n",
        "    return mae\n",
        "  else:\n",
        "    return None"
      ],
      "execution_count": null,
      "outputs": []
    },
    {
      "cell_type": "code",
      "metadata": {
        "colab": {
          "base_uri": "https://localhost:8080/"
        },
        "id": "JbE77KBuBmlg",
        "outputId": "40031121-b274-41a9-e034-f1b14e658d2c"
      },
      "source": [
        "mae = eval_range(rf, val[['Distancia_Total', 'Diferencia']], top=1e20, bottom=0)\n",
        "print(\"Errores globales\")\n",
        "#print(\"\\tRMS: \\t{}\".format(rms))\n",
        "print(\"\\tMAE: \\t{}\".format(mae))\n",
        "#print(\"\\tR2: \\t{}\\n\".format(r2))\n",
        "\n",
        "\n",
        "ranges = [[0, 5*60], [5*60, 10*60], [10*60, 20*60], [20*60, 40*60], [40*60, 60*60]]\n",
        "for bottom, top in ranges:\n",
        "  mae= eval_range(rf, val[['Distancia_Total', 'Diferencia']], top=top, bottom=bottom)\n",
        "  print(\"Errores para el rango {}min a {}min\".format(bottom//60, top//60))\n",
        "  #print(\"\\tRMS: \\t{}\".format(rms))\n",
        "  print(\"\\tMAE: \\t{}\".format(mae))\n",
        "  #print(\"\\tR2: \\t{}\\n\".format(r2))"
      ],
      "execution_count": null,
      "outputs": [
        {
          "output_type": "stream",
          "text": [
            "Errores globales\n",
            "\tMAE: \t197.2840548104081\n",
            "Errores para el rango 0min a 5min\n",
            "\tMAE: \t60.364205714280274\n",
            "Errores para el rango 5min a 10min\n",
            "\tMAE: \t160.58971253863822\n",
            "Errores para el rango 10min a 20min\n",
            "\tMAE: \t275.18863939048197\n",
            "Errores para el rango 20min a 40min\n",
            "\tMAE: \t386.2820244200918\n",
            "Errores para el rango 40min a 60min\n",
            "\tMAE: \t673.8775766116485\n"
          ],
          "name": "stdout"
        }
      ]
    }
  ]
}